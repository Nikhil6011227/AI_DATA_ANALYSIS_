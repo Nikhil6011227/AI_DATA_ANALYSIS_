{
 "cells": [
  {
   "cell_type": "markdown",
   "metadata": {},
   "source": [
    "### Machine Learning for Data Quality Prediction\n",
    "**Description**: Use a machine learning model to predict data quality issues.\n",
    "\n",
    "**Steps**:\n",
    "1. Create a mock dataset with features and label (quality issue/label: 0: good, 1: issue).\n",
    "2. Train a machine learning model.\n",
    "3. Evaluate the model performance."
   ]
  },
  {
   "cell_type": "code",
   "execution_count": 1,
   "metadata": {},
   "outputs": [
    {
     "name": "stdout",
     "output_type": "stream",
     "text": [
      "Sample data:\n",
      "    missing_value_rate  num_outliers  avg_data_age  inconsistent_records  \\\n",
      "0            0.374540             1           343                     3   \n",
      "1            0.950714             6           126                     3   \n",
      "2            0.731994             1            75                     4   \n",
      "3            0.598658             2           165                     1   \n",
      "4            0.156019             2           278                     2   \n",
      "\n",
      "   quality_issue  \n",
      "0              1  \n",
      "1              1  \n",
      "2              1  \n",
      "3              1  \n",
      "4              0  \n",
      "\n",
      "Model Performance:\n",
      "Accuracy: 0.995\n",
      "\n",
      "Classification Report:\n",
      "               precision    recall  f1-score   support\n",
      "\n",
      "           0       1.00      0.98      0.99        54\n",
      "           1       0.99      1.00      1.00       146\n",
      "\n",
      "    accuracy                           0.99       200\n",
      "   macro avg       1.00      0.99      0.99       200\n",
      "weighted avg       1.00      0.99      0.99       200\n",
      "\n",
      "\n",
      "Confusion Matrix:\n",
      " [[ 53   1]\n",
      " [  0 146]]\n"
     ]
    }
   ],
   "source": [
    "import pandas as pd\n",
    "import numpy as np\n",
    "from sklearn.model_selection import train_test_split\n",
    "from sklearn.ensemble import RandomForestClassifier\n",
    "from sklearn.metrics import classification_report, confusion_matrix, accuracy_score\n",
    "\n",
    "# Step 1: Create mock dataset\n",
    "np.random.seed(42)\n",
    "data_size = 1000\n",
    "\n",
    "# Features (example): missing_value_rate, num_outliers, avg_data_age, inconsistent_records\n",
    "df = pd.DataFrame({\n",
    "    \"missing_value_rate\": np.random.rand(data_size),  # 0 to 1\n",
    "    \"num_outliers\": np.random.poisson(lam=2, size=data_size),\n",
    "    \"avg_data_age\": np.random.randint(1, 365, size=data_size),  # days\n",
    "    \"inconsistent_records\": np.random.randint(0, 5, size=data_size)\n",
    "})\n",
    "\n",
    "# Label: 0 (good quality), 1 (quality issue)\n",
    "# Let's say higher missing_value_rate and inconsistent_records increase chance of quality issues\n",
    "df[\"quality_issue\"] = ((df[\"missing_value_rate\"] > 0.4) | (df[\"inconsistent_records\"] > 2)).astype(int)\n",
    "\n",
    "print(\"Sample data:\\n\", df.head())\n",
    "\n",
    "# Step 2: Train ML model\n",
    "X = df.drop(\"quality_issue\", axis=1)\n",
    "y = df[\"quality_issue\"]\n",
    "\n",
    "X_train, X_test, y_train, y_test = train_test_split(X, y, test_size=0.2, random_state=42)\n",
    "\n",
    "model = RandomForestClassifier(random_state=42)\n",
    "model.fit(X_train, y_train)\n",
    "\n",
    "# Step 3: Evaluate model\n",
    "y_pred = model.predict(X_test)\n",
    "\n",
    "print(\"\\nModel Performance:\")\n",
    "print(\"Accuracy:\", accuracy_score(y_test, y_pred))\n",
    "print(\"\\nClassification Report:\\n\", classification_report(y_test, y_pred))\n",
    "print(\"\\nConfusion Matrix:\\n\", confusion_matrix(y_test, y_pred))"
   ]
  }
 ],
 "metadata": {
  "kernelspec": {
   "display_name": "Python 3",
   "language": "python",
   "name": "python3"
  },
  "language_info": {
   "codemirror_mode": {
    "name": "ipython",
    "version": 3
   },
   "file_extension": ".py",
   "mimetype": "text/x-python",
   "name": "python",
   "nbconvert_exporter": "python",
   "pygments_lexer": "ipython3",
   "version": "3.10.12"
  }
 },
 "nbformat": 4,
 "nbformat_minor": 2
}
