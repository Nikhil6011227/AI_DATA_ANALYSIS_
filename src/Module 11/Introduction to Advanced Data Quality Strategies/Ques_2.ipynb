{
 "cells": [
  {
   "cell_type": "markdown",
   "metadata": {},
   "source": [
    "### Handling Unstructured Data with Python\n",
    "**Description**: Extract structured data from unstructured text using Python.\n",
    "\n",
    "**Steps**:\n",
    "1. Load and analyze an unstructured text document.\n",
    "2. Extract information using regex."
   ]
  },
  {
   "cell_type": "code",
   "execution_count": 1,
   "metadata": {},
   "outputs": [
    {
     "name": "stdout",
     "output_type": "stream",
     "text": [
      "Extracted Information:\n",
      "Name: John Doe\n",
      "Age: 45\n",
      "Dates: ['2025-05-20', '2025-06-15']\n",
      "Phone: 555-123-4567\n",
      "Email: john.doe@example.com.\n"
     ]
    }
   ],
   "source": [
    "import re\n",
    "\n",
    "# Step 1: Sample unstructured text (e.g., medical notes)\n",
    "text = \"\"\"\n",
    "Patient John Doe, aged 45, visited on 2025-05-20 complaining of headache and fever.\n",
    "Contact: 555-123-4567. Email: john.doe@example.com.\n",
    "Next appointment: 2025-06-15.\n",
    "\"\"\"\n",
    "\n",
    "# Step 2: Extract structured data using regex\n",
    "\n",
    "# Extract name (simple example: assume \"Patient <Name>,\")\n",
    "name_match = re.search(r\"Patient\\s([A-Za-z\\s]+),\", text)\n",
    "name = name_match.group(1) if name_match else \"Not found\"\n",
    "\n",
    "# Extract age\n",
    "age_match = re.search(r\"aged\\s(\\d+)\", text)\n",
    "age = int(age_match.group(1)) if age_match else None\n",
    "\n",
    "# Extract dates (YYYY-MM-DD)\n",
    "dates = re.findall(r\"\\d{4}-\\d{2}-\\d{2}\", text)\n",
    "\n",
    "# Extract phone number (pattern: xxx-xxx-xxxx)\n",
    "phone_match = re.search(r\"\\d{3}-\\d{3}-\\d{4}\", text)\n",
    "phone = phone_match.group(0) if phone_match else \"Not found\"\n",
    "\n",
    "# Extract email\n",
    "email_match = re.search(r\"[\\w\\.-]+@[\\w\\.-]+\", text)\n",
    "email = email_match.group(0) if email_match else \"Not found\"\n",
    "\n",
    "# Output extracted info\n",
    "print(\"Extracted Information:\")\n",
    "print(f\"Name: {name}\")\n",
    "print(f\"Age: {age}\")\n",
    "print(f\"Dates: {dates}\")\n",
    "print(f\"Phone: {phone}\")\n",
    "print(f\"Email: {email}\")"
   ]
  }
 ],
 "metadata": {
  "kernelspec": {
   "display_name": "Python 3",
   "language": "python",
   "name": "python3"
  },
  "language_info": {
   "codemirror_mode": {
    "name": "ipython",
    "version": 3
   },
   "file_extension": ".py",
   "mimetype": "text/x-python",
   "name": "python",
   "nbconvert_exporter": "python",
   "pygments_lexer": "ipython3",
   "version": "3.10.12"
  }
 },
 "nbformat": 4,
 "nbformat_minor": 2
}
