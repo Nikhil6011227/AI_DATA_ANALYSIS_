{
 "cells": [
  {
   "cell_type": "code",
   "execution_count": 4,
   "metadata": {},
   "outputs": [
    {
     "name": "stdout",
     "output_type": "stream",
     "text": [
      "After standardizing names and rounding ages:\n",
      "       Name  Age\n",
      "0    alice   25\n",
      "1      bob   31\n",
      "2  charlie   23\n",
      "3    david   28\n",
      "4      eva   35\n",
      "\n",
      "Standardized product names and formatted prices:\n",
      "   Product    Price\n",
      "0   phone   699.46\n",
      "1  laptop  1000.00\n",
      "2  tablet   450.12\n",
      "3   phone   700.79\n",
      "4  laptop  1000.46\n"
     ]
    }
   ],
   "source": [
    "import pandas as pd\n",
    "\n",
    "# Step 1: Standardize Text Data\n",
    "# Sample DataFrame with names\n",
    "data = {\n",
    "    'Name': ['Alice', 'BOB', 'Charlie', 'David', 'Eva'],\n",
    "    'Age': [25.4, 30.6, 22.9, 28.3, 35.1],\n",
    "}\n",
    "\n",
    "df = pd.DataFrame(data)\n",
    "\n",
    "# 1.1 Convert all names to lowercase\n",
    "df['Name'] = df['Name'].str.lower()\n",
    "\n",
    "# Step 2: Format Numerical Data\n",
    "# 2.1 Round Age column to nearest integer\n",
    "df['Age'] = df['Age'].round().astype(int)\n",
    "\n",
    "print(\"After standardizing names and rounding ages:\\n\", df)\n",
    "\n",
    "# Step 3: Combined Practice on Another Dataset\n",
    "new_data = {\n",
    "    'Product': ['Phone', 'laptop', 'Tablet', 'PHONE', 'LaPtoP'],\n",
    "    'Price': [699.456, 999.999, 450.123, 700.789, 1000.456]\n",
    "}\n",
    "\n",
    "new_df = pd.DataFrame(new_data)\n",
    "\n",
    "# 3.1 Standardize product names (all lowercase)\n",
    "new_df['Product'] = new_df['Product'].str.lower()\n",
    "\n",
    "# 3.2 Format prices to two decimal places\n",
    "new_df['Price'] = new_df['Price'].round(2)\n",
    "\n",
    "print(\"\\nStandardized product names and formatted prices:\\n\", new_df)"
   ]
  },
  {
   "cell_type": "code",
   "execution_count": null,
   "metadata": {},
   "outputs": [],
   "source": []
  }
 ],
 "metadata": {
  "kernelspec": {
   "display_name": "Python 3",
   "language": "python",
   "name": "python3"
  },
  "language_info": {
   "codemirror_mode": {
    "name": "ipython",
    "version": 3
   },
   "file_extension": ".py",
   "mimetype": "text/x-python",
   "name": "python",
   "nbconvert_exporter": "python",
   "pygments_lexer": "ipython3",
   "version": "3.10.12"
  }
 },
 "nbformat": 4,
 "nbformat_minor": 2
}
