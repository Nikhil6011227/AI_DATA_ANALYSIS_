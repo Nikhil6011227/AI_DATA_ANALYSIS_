{
 "cells": [
  {
   "cell_type": "code",
   "execution_count": 1,
   "metadata": {},
   "outputs": [
    {
     "name": "stdout",
     "output_type": "stream",
     "text": [
      "Before filling missing values:\n",
      "  Category  Value\n",
      "0        A   10.0\n",
      "1        A    NaN\n",
      "2        B   20.0\n",
      "3        B    NaN\n",
      "4        C   30.0\n",
      "5        C    NaN\n",
      "\n",
      "After conditional filling of missing values:\n",
      "  Category  Value\n",
      "0        A   10.0\n",
      "1        A  100.0\n",
      "2        B   20.0\n",
      "3        B  200.0\n",
      "4        C   30.0\n",
      "5        C  300.0\n"
     ]
    }
   ],
   "source": [
    "# Question 1: Handling Missing Values with Conditional Filling\n",
    "# Description: Fill missing values in a specific column based on a condition from another column.\n",
    "import pandas as pd\n",
    "import numpy as np\n",
    "\n",
    "# Sample DataFrame with missing values\n",
    "data = {\n",
    "    'Category': ['A', 'A', 'B', 'B', 'C', 'C'],\n",
    "    'Value': [10, np.nan, 20, np.nan, 30, np.nan]\n",
    "}\n",
    "df = pd.DataFrame(data)\n",
    "\n",
    "print(\"Before filling missing values:\")\n",
    "print(df)\n",
    "\n",
    "# Define a mapping from Category to fill values for missing 'Value'\n",
    "fill_values = {\n",
    "    'A': 100,\n",
    "    'B': 200,\n",
    "    'C': 300\n",
    "}\n",
    "\n",
    "# Fill missing 'Value' based on 'Category'\n",
    "df['Value'] = df.apply(\n",
    "    lambda row: fill_values[row['Category']] if pd.isna(row['Value']) else row['Value'],\n",
    "    axis=1\n",
    ")\n",
    "\n",
    "print(\"\\nAfter conditional filling of missing values:\")\n",
    "print(df)\n",
    "\n",
    "\n",
    "\n"
   ]
  },
  {
   "cell_type": "code",
   "execution_count": 2,
   "metadata": {},
   "outputs": [
    {
     "name": "stdout",
     "output_type": "stream",
     "text": [
      "Original Data:\n",
      "   Value\n",
      "0     10\n",
      "1     12\n",
      "2     11\n",
      "3     13\n",
      "4     12\n",
      "5    200\n",
      "6     11\n",
      "7     14\n",
      "8     10\n",
      "9      9\n",
      "\n",
      "Data after removing outliers:\n",
      "   Value\n",
      "0     10\n",
      "1     12\n",
      "2     11\n",
      "3     13\n",
      "4     12\n",
      "5    200\n",
      "6     11\n",
      "7     14\n",
      "8     10\n",
      "9      9\n"
     ]
    }
   ],
   "source": [
    "# Question 2: Removing Outliers by Rescaling\n",
    "# Description: Remove outliers by standardizing a numerical column using z-scores.\n",
    "import pandas as pd\n",
    "import numpy as np\n",
    "from scipy import stats\n",
    "\n",
    "# Sample DataFrame with outliers\n",
    "data = {\n",
    "    'Value': [10, 12, 11, 13, 12, 200, 11, 14, 10, 9]\n",
    "}\n",
    "df = pd.DataFrame(data)\n",
    "\n",
    "print(\"Original Data:\")\n",
    "print(df)\n",
    "\n",
    "# Calculate z-scores for the 'Value' column\n",
    "df['z_score'] = stats.zscore(df['Value'])\n",
    "\n",
    "# Define a threshold for outliers (e.g., |z| > 3)\n",
    "threshold = 3\n",
    "\n",
    "# Filter out outliers\n",
    "df_clean = df[df['z_score'].abs() <= threshold].copy()\n",
    "\n",
    "# Drop the z_score column if not needed\n",
    "df_clean.drop(columns='z_score', inplace=True)\n",
    "\n",
    "print(\"\\nData after removing outliers:\")\n",
    "print(df_clean)\n"
   ]
  },
  {
   "cell_type": "code",
   "execution_count": 3,
   "metadata": {},
   "outputs": [
    {
     "name": "stdout",
     "output_type": "stream",
     "text": [
      "      Name  Age\n",
      "0    Alice   25\n",
      "1      Bob   28\n",
      "2  Charlie   30\n",
      "3    David   28\n"
     ]
    }
   ],
   "source": [
    "# Question 3: Applying Data Type Conversion\n",
    "# Description: Convert the 'Age' column to integers after filling missing values.\n",
    "\n",
    "import pandas as pd\n",
    "import numpy as np\n",
    "\n",
    "data = {\n",
    "    'Name': ['Alice', 'Bob', 'Charlie', 'David'],\n",
    "    'Age': ['25', np.nan, '30', '28.0']\n",
    "}\n",
    "\n",
    "df = pd.DataFrame(data)\n",
    "\n",
    "# Fill missing values in 'Age' with the median (converted to float first)\n",
    "df['Age'] = pd.to_numeric(df['Age'], errors='coerce')  # Convert to numeric, coercing errors to NaN\n",
    "median_age = df['Age'].median()\n",
    "df['Age'].fillna(median_age, inplace=True)\n",
    "\n",
    "# Convert 'Age' column to integers\n",
    "df['Age'] = df['Age'].astype(int)\n",
    "\n",
    "print(df)"
   ]
  },
  {
   "cell_type": "code",
   "execution_count": 4,
   "metadata": {},
   "outputs": [
    {
     "name": "stdout",
     "output_type": "stream",
     "text": [
      "  employee_name   age   salary\n",
      "0         Alice  25.0  50000.0\n",
      "1           Bob  25.0  60000.0\n",
      "3          None  30.0  50000.0\n"
     ]
    }
   ],
   "source": [
    "# Question 4: Automating Data Cleaning with Functions\n",
    "# Description: Create a function that automates the process of filling missing values, removing duplicates, and standardizing column names.\n",
    "\n",
    "import pandas as pd\n",
    "\n",
    "def clean_data(df):\n",
    "    # Fill missing values with column median for numeric columns\n",
    "    for col in df.select_dtypes(include=['number']).columns:\n",
    "        median_val = df[col].median()\n",
    "        df[col].fillna(median_val, inplace=True)\n",
    "    \n",
    "    # Remove duplicate rows\n",
    "    df.drop_duplicates(inplace=True)\n",
    "    \n",
    "    # Standardize column names: lowercase and replace spaces with underscores\n",
    "    df.columns = df.columns.str.lower().str.replace(' ', '_')\n",
    "    \n",
    "    return df\n",
    "\n",
    "# Example usage\n",
    "data = {\n",
    "    'Employee Name': ['Alice', 'Bob', 'Alice', None],\n",
    "    'Age': [25, None, 25, 30],\n",
    "    'Salary': [50000, 60000, 50000, None]\n",
    "}\n",
    "\n",
    "df = pd.DataFrame(data)\n",
    "cleaned_df = clean_data(df)\n",
    "\n",
    "print(cleaned_df)"
   ]
  },
  {
   "cell_type": "code",
   "execution_count": 5,
   "metadata": {},
   "outputs": [
    {
     "name": "stdout",
     "output_type": "stream",
     "text": [
      "   Age  Age_normalized\n",
      "0   25        0.166667\n",
      "1   30        0.444444\n",
      "2   22        0.000000\n",
      "3   40        1.000000\n",
      "4   35        0.722222\n"
     ]
    }
   ],
   "source": [
    "# Question 5: Complex Data Normalization\n",
    "# Description: Normalize a numeric column to a range using min-max scaling.\n",
    "\n",
    "import pandas as pd\n",
    "\n",
    "def min_max_normalize(df, column):\n",
    "    min_val = df[column].min()\n",
    "    max_val = df[column].max()\n",
    "    df[column + '_normalized'] = (df[column] - min_val) / (max_val - min_val)\n",
    "    return df\n",
    "\n",
    "# Example usage\n",
    "data = {\n",
    "    'Age': [25, 30, 22, 40, 35]\n",
    "}\n",
    "\n",
    "df = pd.DataFrame(data)\n",
    "df = min_max_normalize(df, 'Age')\n",
    "\n",
    "print(df)"
   ]
  }
 ],
 "metadata": {
  "kernelspec": {
   "display_name": "Python 3",
   "language": "python",
   "name": "python3"
  },
  "language_info": {
   "codemirror_mode": {
    "name": "ipython",
    "version": 3
   },
   "file_extension": ".py",
   "mimetype": "text/x-python",
   "name": "python",
   "nbconvert_exporter": "python",
   "pygments_lexer": "ipython3",
   "version": "3.10.12"
  }
 },
 "nbformat": 4,
 "nbformat_minor": 2
}
