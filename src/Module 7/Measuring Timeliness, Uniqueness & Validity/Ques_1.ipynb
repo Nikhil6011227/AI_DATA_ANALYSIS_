{
 "cells": [
  {
   "cell_type": "markdown",
   "metadata": {},
   "source": [
    "## Format Compliance for Email\n",
    "\n",
    "**Description**: Check if emails in a list are valid based on a basic regex pattern."
   ]
  },
  {
   "cell_type": "code",
   "execution_count": 4,
   "metadata": {},
   "outputs": [
    {
     "name": "stdout",
     "output_type": "stream",
     "text": [
      "                      email  valid_email\n",
      "0      john.doe@example.com         True\n",
      "1            invalid-email@        False\n",
      "2     jane_doe123@domain.co         True\n",
      "3          user@@domain.com        False\n",
      "4  name.surname@company.org         True\n"
     ]
    }
   ],
   "source": [
    "import pandas as pd\n",
    "import re\n",
    "\n",
    "# Sample data\n",
    "data = {\n",
    "    \"email\": [\n",
    "        \"john.doe@example.com\",\n",
    "        \"invalid-email@\",\n",
    "        \"jane_doe123@domain.co\",\n",
    "        \"user@@domain.com\",\n",
    "        \"name.surname@company.org\"\n",
    "    ]\n",
    "}\n",
    "\n",
    "# Load into DataFrame\n",
    "df = pd.DataFrame(data)\n",
    "\n",
    "# Define a basic regex pattern for email\n",
    "email_pattern = r'^[\\w\\.-]+@[\\w\\.-]+\\.\\w+$'\n",
    "\n",
    "# Check if emails are valid\n",
    "df['valid_email'] = df['email'].apply(lambda x: bool(re.match(email_pattern, x)))\n",
    "\n",
    "# Print the result\n",
    "print(df)"
   ]
  },
  {
   "cell_type": "markdown",
   "metadata": {},
   "source": [
    "## Format Compliance for Phone Numbers\n",
    "\n",
    "**Description**: Verify if the phone numbers follow a specific pattern."
   ]
  },
  {
   "cell_type": "code",
   "execution_count": 5,
   "metadata": {},
   "outputs": [
    {
     "name": "stdout",
     "output_type": "stream",
     "text": [
      "     phone_number  valid_phone\n",
      "0      9876543210         True\n",
      "1  +91-9876543210         True\n",
      "2     09876543210         True\n",
      "3    123-456-7890        False\n",
      "4     98765 43210        False\n",
      "5          123456        False\n"
     ]
    }
   ],
   "source": [
    "import pandas as pd\n",
    "import re\n",
    "\n",
    "# Sample phone number data\n",
    "data = {\n",
    "    \"phone_number\": [\n",
    "        \"9876543210\",\n",
    "        \"+91-9876543210\",\n",
    "        \"09876543210\",\n",
    "        \"123-456-7890\",\n",
    "        \"98765 43210\",\n",
    "        \"123456\"\n",
    "    ]\n",
    "}\n",
    "\n",
    "# Load into DataFrame\n",
    "df = pd.DataFrame(data)\n",
    "\n",
    "# Define a basic regex pattern (for 10-digit numbers with optional country code and separators)\n",
    "phone_pattern = r'^(\\+91[-\\s]?|0)?[6-9]\\d{9}$'\n",
    "\n",
    "# Validate phone numbers\n",
    "df['valid_phone'] = df['phone_number'].apply(lambda x: bool(re.match(phone_pattern, x)))\n",
    "\n",
    "# Display the result\n",
    "print(df)"
   ]
  },
  {
   "cell_type": "markdown",
   "metadata": {},
   "source": [
    "## Checking Date Validity Format\n",
    "\n",
    "**Description**: Ensure the dates in a list adhere to a specific format (e.g., YYYY-MM-DD)."
   ]
  },
  {
   "cell_type": "code",
   "execution_count": 6,
   "metadata": {},
   "outputs": [
    {
     "name": "stdout",
     "output_type": "stream",
     "text": [
      "         date  valid_date\n",
      "0  2024-05-21        True\n",
      "1  2023-12-01        True\n",
      "2  21-05-2024       False\n",
      "3  2024/05/21       False\n",
      "4  2024-13-01       False\n",
      "5  2024-02-30       False\n",
      "6  2024-06-15        True\n"
     ]
    }
   ],
   "source": [
    "import pandas as pd\n",
    "from datetime import datetime\n",
    "\n",
    "# Sample data with date strings\n",
    "data = {\n",
    "    \"date\": [\n",
    "        \"2024-05-21\",\n",
    "        \"2023-12-01\",\n",
    "        \"21-05-2024\",\n",
    "        \"2024/05/21\",\n",
    "        \"2024-13-01\",\n",
    "        \"2024-02-30\",\n",
    "        \"2024-06-15\"\n",
    "    ]\n",
    "}\n",
    "\n",
    "# Load into DataFrame\n",
    "df = pd.DataFrame(data)\n",
    "\n",
    "# Function to validate date format\n",
    "def is_valid_date(date_str, date_format=\"%Y-%m-%d\"):\n",
    "    try:\n",
    "        datetime.strptime(date_str, date_format)\n",
    "        return True\n",
    "    except ValueError:\n",
    "        return False\n",
    "\n",
    "# Apply validation\n",
    "df['valid_date'] = df['date'].apply(is_valid_date)\n",
    "\n",
    "# Show results\n",
    "print(df)"
   ]
  }
 ],
 "metadata": {
  "kernelspec": {
   "display_name": "Python 3",
   "language": "python",
   "name": "python3"
  },
  "language_info": {
   "codemirror_mode": {
    "name": "ipython",
    "version": 3
   },
   "file_extension": ".py",
   "mimetype": "text/x-python",
   "name": "python",
   "nbconvert_exporter": "python",
   "pygments_lexer": "ipython3",
   "version": "3.10.12"
  }
 },
 "nbformat": 4,
 "nbformat_minor": 2
}
