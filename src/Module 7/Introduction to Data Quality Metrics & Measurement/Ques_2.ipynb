{
 "cells": [
  {
   "cell_type": "markdown",
   "metadata": {},
   "source": [
    "## Data Quality Framework Implementation\n",
    "\n",
    "**Description**: Implement a simple data quality measurement framework using ISO 8000 principles to assess key dimensions in a dataset."
   ]
  },
  {
   "cell_type": "code",
   "execution_count": 2,
   "metadata": {},
   "outputs": [
    {
     "name": "stdout",
     "output_type": "stream",
     "text": [
      "\n",
      "🔍 Data Quality Report:\n",
      "\n",
      "          completeness (%) consistency (%) accuracy timeliness validity (%)\n",
      "Name                  75.0           100.0      N/A        N/A          NaN\n",
      "Age                   75.0           100.0      N/A        N/A          NaN\n",
      "Gender               100.0           100.0      N/A        N/A         75.0\n",
      "Join_Date            100.0            75.0      N/A        N/A          NaN\n"
     ]
    }
   ],
   "source": [
    "import pandas as pd\n",
    "import numpy as np\n",
    "\n",
    "# Sample dataset (this is your 'dataset')\n",
    "dataset = pd.DataFrame({\n",
    "    \"Name\": [\"Alice\", \"Bob\", \"Charlie\", None],\n",
    "    \"Age\": [25, 200, None, 40],\n",
    "    \"Gender\": [\"F\", \"M\", \"X\", \"F\"],\n",
    "    \"Join_Date\": [\"2021-01-01\", \"not_a_date\", \"2020-05-20\", \"2022-03-15\"]\n",
    "})\n",
    "\n",
    "# Data Element Definition (DED)\n",
    "DED = {\n",
    "    \"Name\": {\"type\": \"string\", \"required\": True},\n",
    "    \"Age\": {\"type\": \"integer\", \"min\": 0, \"max\": 120, \"required\": False},\n",
    "    \"Gender\": {\"type\": \"string\", \"allowed_values\": [\"M\", \"F\"], \"required\": True},\n",
    "    \"Join_Date\": {\"type\": \"datetime\", \"required\": True}\n",
    "}\n",
    "\n",
    "# Helper functions\n",
    "def non_null_count(series):\n",
    "    return series.notnull().sum()\n",
    "\n",
    "def total_count(df):\n",
    "    return len(df)\n",
    "\n",
    "def type_check_score(series, expected_type):\n",
    "    if expected_type == \"integer\":\n",
    "        return 100 * pd.to_numeric(series, errors='coerce').dropna().apply(float.is_integer).mean()\n",
    "    elif expected_type == \"string\":\n",
    "        return 100 * series.dropna().apply(lambda x: isinstance(x, str)).mean()\n",
    "    elif expected_type == \"datetime\":\n",
    "        return 100 * pd.to_datetime(series, errors='coerce').notnull().mean()\n",
    "    else:\n",
    "        return 0\n",
    "\n",
    "# Data Evaluation (DE)\n",
    "def evaluate_data_quality(df, DED):\n",
    "    results = {}\n",
    "\n",
    "    for column, rules in DED.items():\n",
    "        col_result = {}\n",
    "\n",
    "        # Completeness\n",
    "        completeness_score = (non_null_count(df[column]) / total_count(df)) * 100\n",
    "        col_result[\"completeness (%)\"] = round(completeness_score, 2)\n",
    "\n",
    "        # Validity\n",
    "        if \"allowed_values\" in rules:\n",
    "            valid_entries = df[column].isin(rules[\"allowed_values\"]).sum()\n",
    "            validity_score = (valid_entries / total_count(df)) * 100\n",
    "            col_result[\"validity (%)\"] = round(validity_score, 2)\n",
    "\n",
    "        # Consistency (Data type)\n",
    "        consistency_score = type_check_score(df[column], rules[\"type\"])\n",
    "        col_result[\"consistency (%)\"] = round(consistency_score, 2)\n",
    "\n",
    "        # Accuracy and Timeliness placeholders\n",
    "        col_result[\"accuracy\"] = \"N/A\"\n",
    "        col_result[\"timeliness\"] = \"N/A\"\n",
    "\n",
    "        results[column] = col_result\n",
    "\n",
    "    return pd.DataFrame(results).T  # Transpose for better readability\n",
    "\n",
    "# Step 4: Generate Data Quality Report\n",
    "data_quality_report = evaluate_data_quality(dataset, DED)\n",
    "print(\"\\n🔍 Data Quality Report:\\n\")\n",
    "print(data_quality_report)"
   ]
  }
 ],
 "metadata": {
  "kernelspec": {
   "display_name": "Python 3",
   "language": "python",
   "name": "python3"
  },
  "language_info": {
   "codemirror_mode": {
    "name": "ipython",
    "version": 3
   },
   "file_extension": ".py",
   "mimetype": "text/x-python",
   "name": "python",
   "nbconvert_exporter": "python",
   "pygments_lexer": "ipython3",
   "version": "3.10.12"
  }
 },
 "nbformat": 4,
 "nbformat_minor": 2
}
