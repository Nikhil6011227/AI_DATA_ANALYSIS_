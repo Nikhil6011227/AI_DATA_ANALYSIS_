{
 "cells": [
  {
   "cell_type": "markdown",
   "metadata": {},
   "source": [
    "## Data Quality Dashboard in Python\n",
    "\n",
    "**Description**: Create a basic dashboard using a Python library (e.g., Plotly Dash) to visualize data quality metrics for a given dataset."
   ]
  },
  {
   "cell_type": "code",
   "execution_count": 3,
   "metadata": {},
   "outputs": [
    {
     "name": "stdout",
     "output_type": "stream",
     "text": [
      "Defaulting to user installation because normal site-packages is not writeable\n",
      "Requirement already satisfied: dash in /home/vscode/.local/lib/python3.10/site-packages (3.0.4)\n",
      "Requirement already satisfied: plotly in /home/vscode/.local/lib/python3.10/site-packages (6.0.1)\n",
      "Requirement already satisfied: pandas in /home/vscode/.local/lib/python3.10/site-packages (2.1.4)\n",
      "Requirement already satisfied: Flask<3.1,>=1.0.4 in /home/vscode/.local/lib/python3.10/site-packages (from dash) (3.0.3)\n",
      "Requirement already satisfied: Werkzeug<3.1 in /home/vscode/.local/lib/python3.10/site-packages (from dash) (3.0.6)\n",
      "Requirement already satisfied: importlib-metadata in /home/vscode/.local/lib/python3.10/site-packages (from dash) (8.7.0)\n",
      "Requirement already satisfied: typing-extensions>=4.1.1 in /home/vscode/.local/lib/python3.10/site-packages (from dash) (4.13.2)\n",
      "Requirement already satisfied: requests in /home/vscode/.local/lib/python3.10/site-packages (from dash) (2.32.3)\n",
      "Requirement already satisfied: retrying in /home/vscode/.local/lib/python3.10/site-packages (from dash) (1.3.4)\n",
      "Requirement already satisfied: nest-asyncio in /home/vscode/.local/lib/python3.10/site-packages (from dash) (1.6.0)\n",
      "Requirement already satisfied: setuptools in /usr/local/lib/python3.10/site-packages (from dash) (67.8.0)\n",
      "Requirement already satisfied: Jinja2>=3.1.2 in /home/vscode/.local/lib/python3.10/site-packages (from Flask<3.1,>=1.0.4->dash) (3.1.6)\n",
      "Requirement already satisfied: itsdangerous>=2.1.2 in /home/vscode/.local/lib/python3.10/site-packages (from Flask<3.1,>=1.0.4->dash) (2.2.0)\n",
      "Requirement already satisfied: click>=8.1.3 in /home/vscode/.local/lib/python3.10/site-packages (from Flask<3.1,>=1.0.4->dash) (8.2.1)\n",
      "Requirement already satisfied: blinker>=1.6.2 in /home/vscode/.local/lib/python3.10/site-packages (from Flask<3.1,>=1.0.4->dash) (1.9.0)\n",
      "Requirement already satisfied: MarkupSafe>=2.1.1 in /home/vscode/.local/lib/python3.10/site-packages (from Werkzeug<3.1->dash) (3.0.2)\n",
      "Requirement already satisfied: narwhals>=1.15.1 in /home/vscode/.local/lib/python3.10/site-packages (from plotly) (1.38.0)\n",
      "Requirement already satisfied: packaging in /home/vscode/.local/lib/python3.10/site-packages (from plotly) (25.0)\n",
      "Requirement already satisfied: numpy<2,>=1.22.4 in /home/vscode/.local/lib/python3.10/site-packages (from pandas) (1.26.4)\n",
      "Requirement already satisfied: python-dateutil>=2.8.2 in /home/vscode/.local/lib/python3.10/site-packages (from pandas) (2.9.0.post0)\n",
      "Requirement already satisfied: pytz>=2020.1 in /home/vscode/.local/lib/python3.10/site-packages (from pandas) (2025.2)\n",
      "Requirement already satisfied: tzdata>=2022.1 in /home/vscode/.local/lib/python3.10/site-packages (from pandas) (2025.2)\n",
      "Requirement already satisfied: six>=1.5 in /home/vscode/.local/lib/python3.10/site-packages (from python-dateutil>=2.8.2->pandas) (1.17.0)\n",
      "Requirement already satisfied: zipp>=3.20 in /home/vscode/.local/lib/python3.10/site-packages (from importlib-metadata->dash) (3.21.0)\n",
      "Requirement already satisfied: charset-normalizer<4,>=2 in /home/vscode/.local/lib/python3.10/site-packages (from requests->dash) (3.4.2)\n",
      "Requirement already satisfied: idna<4,>=2.5 in /home/vscode/.local/lib/python3.10/site-packages (from requests->dash) (3.10)\n",
      "Requirement already satisfied: urllib3<3,>=1.21.1 in /home/vscode/.local/lib/python3.10/site-packages (from requests->dash) (2.4.0)\n",
      "Requirement already satisfied: certifi>=2017.4.17 in /home/vscode/.local/lib/python3.10/site-packages (from requests->dash) (2025.4.26)\n",
      "Note: you may need to restart the kernel to use updated packages.\n"
     ]
    },
    {
     "data": {
      "text/html": [
       "\n",
       "        <iframe\n",
       "            width=\"100%\"\n",
       "            height=\"650\"\n",
       "            src=\"http://127.0.0.1:8050/\"\n",
       "            frameborder=\"0\"\n",
       "            allowfullscreen\n",
       "            \n",
       "        ></iframe>\n",
       "        "
      ],
      "text/plain": [
       "<IPython.lib.display.IFrame at 0x7c031c60d390>"
      ]
     },
     "metadata": {},
     "output_type": "display_data"
    }
   ],
   "source": [
    "%pip install dash plotly pandas\n",
    "import pandas as pd\n",
    "import dash\n",
    "from dash import dcc, html\n",
    "from dash.dependencies import Input, Output\n",
    "import plotly.express as px\n",
    "\n",
    "# Sample dataset with missing values\n",
    "data = {\n",
    "    \"Name\": [\"Alice\", \"Bob\", \"Charlie\", \"David\", \"Eva\", None],\n",
    "    \"Age\": [25, None, 30, 22, None, 28],\n",
    "    \"Salary\": [50000, 60000, None, 70000, 65000, None],\n",
    "    \"Department\": [\"HR\", \"IT\", \"Finance\", None, \"IT\", \"HR\"]\n",
    "}\n",
    "df = pd.DataFrame(data)\n",
    "\n",
    "# Initialize Dash app\n",
    "app = dash.Dash(__name__)\n",
    "\n",
    "# Calculate missing value metrics\n",
    "missing_count = df.isnull().sum()\n",
    "missing_percent = (df.isnull().mean() * 100).round(2)\n",
    "\n",
    "# Prepare DataFrame for visualization\n",
    "quality_df = pd.DataFrame({\n",
    "    \"Column\": missing_count.index,\n",
    "    \"Missing Count\": missing_count.values,\n",
    "    \"Missing Percentage\": missing_percent.values\n",
    "})\n",
    "\n",
    "# Layout of the dashboard\n",
    "app.layout = html.Div([\n",
    "    html.H1(\"Data Quality Dashboard\", style={\"textAlign\": \"center\"}),\n",
    "\n",
    "    html.Div([\n",
    "        dcc.Graph(\n",
    "            id=\"missing-count-bar\",\n",
    "            figure=px.bar(\n",
    "                quality_df, x=\"Column\", y=\"Missing Count\",\n",
    "                title=\"Missing Values Count per Column\",\n",
    "                text=\"Missing Count\",\n",
    "                labels={\"Missing Count\": \"Count\"}\n",
    "            )\n",
    "        )\n",
    "    ]),\n",
    "\n",
    "    html.Div([\n",
    "        dcc.Graph(\n",
    "            id=\"missing-percent-bar\",\n",
    "            figure=px.bar(\n",
    "                quality_df, x=\"Column\", y=\"Missing Percentage\",\n",
    "                title=\"Missing Values Percentage per Column\",\n",
    "                text=\"Missing Percentage\",\n",
    "                labels={\"Missing Percentage\": \"%\"}\n",
    "            )\n",
    "        )\n",
    "    ])\n",
    "])\n",
    "\n",
    "# Run the Dash app\n",
    "if __name__ == \"__main__\":\n",
    "    app.run(debug=True)"
   ]
  }
 ],
 "metadata": {
  "kernelspec": {
   "display_name": "Python 3",
   "language": "python",
   "name": "python3"
  },
  "language_info": {
   "codemirror_mode": {
    "name": "ipython",
    "version": 3
   },
   "file_extension": ".py",
   "mimetype": "text/x-python",
   "name": "python",
   "nbconvert_exporter": "python",
   "pygments_lexer": "ipython3",
   "version": "3.10.12"
  }
 },
 "nbformat": 4,
 "nbformat_minor": 2
}
