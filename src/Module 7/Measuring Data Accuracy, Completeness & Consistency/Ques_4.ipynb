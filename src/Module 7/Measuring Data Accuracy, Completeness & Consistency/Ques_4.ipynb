{
 "cells": [
  {
   "cell_type": "markdown",
   "metadata": {},
   "source": [
    "## Ensuring Consistency in Multi-source Data Integration\n",
    "\n",
    "**Description**: Validate the integration of two datasets `products_A.csv` and `products_B.csv` . Ensure consistency in product \"category\" information."
   ]
  },
  {
   "cell_type": "code",
   "execution_count": 1,
   "metadata": {},
   "outputs": [
    {
     "name": "stdout",
     "output_type": "stream",
     "text": [
      "Inconsistent Category Entries Between A and B:\n",
      "   product_id product_name_A  category_A     category_B\n",
      "2         103         Pencil  Stationery  Office Supply\n"
     ]
    }
   ],
   "source": [
    "import pandas as pd\n",
    "\n",
    "# Sample data for products_A.csv\n",
    "data_a = {\n",
    "    \"product_id\": [101, 102, 103, 104],\n",
    "    \"product_name\": [\"Pen\", \"Notebook\", \"Pencil\", \"Eraser\"],\n",
    "    \"category\": [\"Stationery\", \"Stationery\", \"Stationery\", \"Stationery\"]\n",
    "}\n",
    "df_a = pd.DataFrame(data_a)\n",
    "\n",
    "# Sample data for products_B.csv (with one inconsistent category for product_id=103)\n",
    "data_b = {\n",
    "    \"product_id\": [101, 102, 103, 104],\n",
    "    \"product_name\": [\"Pen\", \"Notebook\", \"Pencil\", \"Eraser\"],\n",
    "    \"category\": [\"Stationery\", \"Stationery\", \"Office Supply\", \"Stationery\"]\n",
    "}\n",
    "df_b = pd.DataFrame(data_b)\n",
    "\n",
    "# Step 1: Merge datasets on product_id\n",
    "merged_df = df_a.merge(df_b, on=\"product_id\", suffixes=('_A', '_B'))\n",
    "\n",
    "# Step 2: Identify category mismatches\n",
    "inconsistencies = merged_df[merged_df[\"category_A\"] != merged_df[\"category_B\"]]\n",
    "\n",
    "# Step 3: Display results\n",
    "print(\"Inconsistent Category Entries Between A and B:\")\n",
    "print(inconsistencies[[\"product_id\", \"product_name_A\", \"category_A\", \"category_B\"]])"
   ]
  }
 ],
 "metadata": {
  "kernelspec": {
   "display_name": "Python 3",
   "language": "python",
   "name": "python3"
  },
  "language_info": {
   "codemirror_mode": {
    "name": "ipython",
    "version": 3
   },
   "file_extension": ".py",
   "mimetype": "text/x-python",
   "name": "python",
   "nbconvert_exporter": "python",
   "pygments_lexer": "ipython3",
   "version": "3.10.12"
  }
 },
 "nbformat": 4,
 "nbformat_minor": 2
}
