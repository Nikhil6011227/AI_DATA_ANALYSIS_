{
 "cells": [
  {
   "cell_type": "markdown",
   "metadata": {},
   "source": [
    "## Architecture to Monitor Data Quality Over Time\n",
    "\n",
    "**Description**: Design a monitoring system in Python that checks and logs data quality metrics (accuracy, completeness) for a dataset over time.\n",
    "\n",
    "**Steps to follow:**\n",
    "1. Implement a Scheduled Script:\n",
    "    - Use schedule library to periodically run a script.\n",
    "2. Script to Calculate Metrics:\n",
    "    - For simplicity, use a function calculate_quality_metrics() that calculates and logs metrics such as missing rate or mismatch rate.\n",
    "3. Store Logs:\n",
    "    - Use Python's logging library to save these metrics over time."
   ]
  },
  {
   "cell_type": "code",
   "execution_count": 5,
   "metadata": {},
   "outputs": [
    {
     "name": "stdout",
     "output_type": "stream",
     "text": [
      "Starting Data Quality Monitor... (press Ctrl+C to stop)\n",
      "Metrics logged.\n",
      "Metrics logged.\n",
      "Metrics logged.\n"
     ]
    },
    {
     "ename": "KeyboardInterrupt",
     "evalue": "",
     "output_type": "error",
     "traceback": [
      "\u001b[0;31m---------------------------------------------------------------------------\u001b[0m",
      "\u001b[0;31mKeyboardInterrupt\u001b[0m                         Traceback (most recent call last)",
      "Cell \u001b[0;32mIn[5], line 65\u001b[0m\n\u001b[1;32m     63\u001b[0m \u001b[38;5;28;01mwhile\u001b[39;00m \u001b[38;5;28;01mTrue\u001b[39;00m:\n\u001b[1;32m     64\u001b[0m     schedule\u001b[38;5;241m.\u001b[39mrun_pending()\n\u001b[0;32m---> 65\u001b[0m     \u001b[43mtime\u001b[49m\u001b[38;5;241;43m.\u001b[39;49m\u001b[43msleep\u001b[49m\u001b[43m(\u001b[49m\u001b[38;5;241;43m1\u001b[39;49m\u001b[43m)\u001b[49m\n",
      "\u001b[0;31mKeyboardInterrupt\u001b[0m: "
     ]
    }
   ],
   "source": [
    "\n",
    "import pandas as pd\n",
    "import logging\n",
    "import schedule\n",
    "import time\n",
    "import random\n",
    "\n",
    "# -------------------------------------------\n",
    "# 1. Setup logging\n",
    "# -------------------------------------------\n",
    "logging.basicConfig(\n",
    "    filename='data_quality.log',\n",
    "    level=logging.INFO,\n",
    "    format='%(asctime)s - %(levelname)s - %(message)s'\n",
    ")\n",
    "\n",
    "# -------------------------------------------\n",
    "# 2. Simulated data source\n",
    "# Replace with actual CSV in real use\n",
    "# -------------------------------------------\n",
    "def load_data():\n",
    "    data = {\n",
    "        \"transaction_id\": [1001, 1002, None, 1004, None],\n",
    "        \"amount\": [200, None, 300, 400, 500],\n",
    "        \"date\": [\"2024-01-01\", \"2024-01-02\", \"2024-01-03\", None, \"2024-01-05\"],\n",
    "        \"status\": [\"Completed\", \"Failed\", \"Completed\", \"Completed\", random.choice([\"Failed\", None])]\n",
    "    }\n",
    "    return pd.DataFrame(data)\n",
    "\n",
    "# -------------------------------------------\n",
    "# 3. Metric calculation function\n",
    "# -------------------------------------------\n",
    "def calculate_quality_metrics(df):\n",
    "    metrics = {}\n",
    "\n",
    "    # Completeness: % missing in key fields\n",
    "    fields = ['transaction_id', 'amount', 'date']\n",
    "    for col in fields:\n",
    "        metrics[f\"{col}_missing_pct\"] = round(df[col].isnull().mean() * 100, 2)\n",
    "\n",
    "    # Accuracy: Dummy rule - \"status\" must be in known list\n",
    "    known_status = {\"Completed\", \"Failed\"}\n",
    "    invalid_status_pct = (~df[\"status\"].isin(known_status)).mean() * 100\n",
    "    metrics[\"status_accuracy_pct\"] = round(100 - invalid_status_pct, 2)\n",
    "\n",
    "    return metrics\n",
    "\n",
    "# -------------------------------------------\n",
    "# 4. Scheduler job\n",
    "# -------------------------------------------\n",
    "def job():\n",
    "    df = load_data()\n",
    "    metrics = calculate_quality_metrics(df)\n",
    "    log_msg = \" | \".join([f\"{k}: {v}%\" for k, v in metrics.items()])\n",
    "    logging.info(f\"Data Quality Metrics - {log_msg}\")\n",
    "    print(\"Metrics logged.\")\n",
    "\n",
    "# -------------------------------------------\n",
    "# 5. Schedule the job to run every minute\n",
    "# -------------------------------------------\n",
    "schedule.every(1).minutes.do(job)\n",
    "\n",
    "print(\"Starting Data Quality Monitor... (press Ctrl+C to stop)\")\n",
    "while True:\n",
    "    schedule.run_pending()\n",
    "    time.sleep(1)"
   ]
  }
 ],
 "metadata": {
  "kernelspec": {
   "display_name": "Python 3",
   "language": "python",
   "name": "python3"
  },
  "language_info": {
   "codemirror_mode": {
    "name": "ipython",
    "version": 3
   },
   "file_extension": ".py",
   "mimetype": "text/x-python",
   "name": "python",
   "nbconvert_exporter": "python",
   "pygments_lexer": "ipython3",
   "version": "3.10.12"
  }
 },
 "nbformat": 4,
 "nbformat_minor": 2
}
