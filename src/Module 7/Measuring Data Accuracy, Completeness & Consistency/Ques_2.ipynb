{
 "cells": [
  {
   "cell_type": "markdown",
   "metadata": {},
   "source": [
    "## Find Conflicting Values Across Datasets\n",
    "\n",
    "**Description**: You have two datasets: `crm_customers.csv` and `erp_customers.csv` . Find customers with conflicting \"email\" information."
   ]
  },
  {
   "cell_type": "code",
   "execution_count": 2,
   "metadata": {},
   "outputs": [
    {
     "name": "stdout",
     "output_type": "stream",
     "text": [
      "Conflicting Email Records:\n",
      "   customer_id          email_cra             email_erp\n",
      "2            3  carol@example.com  caroline@example.com\n",
      "\n",
      "Total conflicting email entries found: 1\n"
     ]
    }
   ],
   "source": [
    "import pandas as pd\n",
    "\n",
    "# Step 0: Create sample data for cra_customers.csv and erp_customers.csv\n",
    "\n",
    "# Sample data for CRA customers\n",
    "cra_data = {\n",
    "    \"customer_id\": [1, 2, 3, 4],\n",
    "    \"email\": [\"alice@example.com\", \"bob@example.com\", \"carol@example.com\", \"dave@example.com\"]\n",
    "}\n",
    "cra_df = pd.DataFrame(cra_data)\n",
    "\n",
    "# Sample data for ERP customers (with one conflicting email for customer_id=3)\n",
    "erp_data = {\n",
    "    \"customer_id\": [1, 2, 3, 4],\n",
    "    \"email\": [\"alice@example.com\", \"bob@example.com\", \"caroline@example.com\", \"dave@example.com\"]\n",
    "}\n",
    "erp_df = pd.DataFrame(erp_data)\n",
    "\n",
    "# Step 1: Merge datasets on customer_id\n",
    "merged_df = cra_df.merge(erp_df, on=\"customer_id\", suffixes=('_cra', '_erp'))\n",
    "\n",
    "# Step 2: Identify conflicting emails\n",
    "conflicts = merged_df[merged_df[\"email_cra\"] != merged_df[\"email_erp\"]]\n",
    "\n",
    "# Step 3: Display conflicts\n",
    "print(\"Conflicting Email Records:\")\n",
    "print(conflicts[[\"customer_id\", \"email_cra\", \"email_erp\"]])\n",
    "\n",
    "print(f\"\\nTotal conflicting email entries found: {len(conflicts)}\")"
   ]
  }
 ],
 "metadata": {
  "kernelspec": {
   "display_name": "Python 3",
   "language": "python",
   "name": "python3"
  },
  "language_info": {
   "codemirror_mode": {
    "name": "ipython",
    "version": 3
   },
   "file_extension": ".py",
   "mimetype": "text/x-python",
   "name": "python",
   "nbconvert_exporter": "python",
   "pygments_lexer": "ipython3",
   "version": "3.10.12"
  }
 },
 "nbformat": 4,
 "nbformat_minor": 2
}
