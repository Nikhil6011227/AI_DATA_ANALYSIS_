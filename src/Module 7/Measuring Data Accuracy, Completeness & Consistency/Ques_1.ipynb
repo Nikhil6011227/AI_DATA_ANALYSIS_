{
 "cells": [
  {
   "cell_type": "markdown",
   "metadata": {},
   "source": [
    "### Task 1: Measure Data Accuracy using a Trusted Source\n",
    "\n",
    "**Description**: You have two datasets of product prices: `company_prices.csv` and\n",
    "`trusted_prices.csv` . Check if the prices in `company_prices.csv` match the prices in\n",
    "`trusted_prices.csv` . Assume both files have a \"product_id\" and \"price\" column."
   ]
  },
  {
   "cell_type": "markdown",
   "metadata": {},
   "source": [
    "### Task 2: Detect Incorrect Values\n",
    "\n",
    "**Description**: In `company_prices.csv` , detect any negative price values which are incorrect values for prices."
   ]
  },
  {
   "cell_type": "code",
   "execution_count": 4,
   "metadata": {},
   "outputs": [
    {
     "name": "stdout",
     "output_type": "stream",
     "text": [
      "Not in Google Colab. Ensure 'company_prices.csv' is in the same folder.\n"
     ]
    },
    {
     "ename": "FileNotFoundError",
     "evalue": "'company_prices.csv' not found in the current directory. Please upload it.",
     "output_type": "error",
     "traceback": [
      "\u001b[0;31m---------------------------------------------------------------------------\u001b[0m",
      "\u001b[0;31mFileNotFoundError\u001b[0m                         Traceback (most recent call last)",
      "Cell \u001b[0;32mIn[4], line 25\u001b[0m\n\u001b[1;32m     23\u001b[0m file_name \u001b[38;5;241m=\u001b[39m \u001b[38;5;124m\"\u001b[39m\u001b[38;5;124mcompany_prices.csv\u001b[39m\u001b[38;5;124m\"\u001b[39m\n\u001b[1;32m     24\u001b[0m \u001b[38;5;28;01mif\u001b[39;00m \u001b[38;5;129;01mnot\u001b[39;00m os\u001b[38;5;241m.\u001b[39mpath\u001b[38;5;241m.\u001b[39mexists(file_name):\n\u001b[0;32m---> 25\u001b[0m     \u001b[38;5;28;01mraise\u001b[39;00m \u001b[38;5;167;01mFileNotFoundError\u001b[39;00m(\u001b[38;5;124mf\u001b[39m\u001b[38;5;124m\"\u001b[39m\u001b[38;5;124m'\u001b[39m\u001b[38;5;132;01m{\u001b[39;00mfile_name\u001b[38;5;132;01m}\u001b[39;00m\u001b[38;5;124m'\u001b[39m\u001b[38;5;124m not found in the current directory. Please upload it.\u001b[39m\u001b[38;5;124m\"\u001b[39m)\n\u001b[1;32m     27\u001b[0m \u001b[38;5;66;03m# === Step 3: Load the dataset ===\u001b[39;00m\n\u001b[1;32m     28\u001b[0m df \u001b[38;5;241m=\u001b[39m pd\u001b[38;5;241m.\u001b[39mread_csv(file_name)\n",
      "\u001b[0;31mFileNotFoundError\u001b[0m: 'company_prices.csv' not found in the current directory. Please upload it."
     ]
    }
   ],
   "source": [
    "# Write your code from here\n",
    "\n",
    "\n",
    "\n",
    "\n",
    "\n",
    "\n",
    "\n",
    "\n",
    "\n",
    "import pandas as pd\n",
    "import os\n",
    "\n",
    "# === Step 1: Upload CSV (for Jupyter/Colab users) ===\n",
    "try:\n",
    "    from google.colab import files\n",
    "    print(\"Please upload 'company_prices.csv'...\")\n",
    "    uploaded = files.upload()\n",
    "except ImportError:\n",
    "    print(\"Not in Google Colab. Ensure 'company_prices.csv' is in the same folder.\")\n",
    "\n",
    "# === Step 2: Check if file exists ===\n",
    "file_name = \"company_prices.csv\"\n",
    "if not os.path.exists(file_name):\n",
    "    raise FileNotFoundError(f\"'{file_name}' not found in the current directory. Please upload it.\")\n",
    "\n",
    "# === Step 3: Load the dataset ===\n",
    "df = pd.read_csv(file_name)\n",
    "\n",
    "# === Step 4: Detect negative price values ===\n",
    "negative_prices = df[df[\"price\"] < 0]\n",
    "\n",
    "# === Step 5: Display results ===\n",
    "if not negative_prices.empty:\n",
    "    print(\"\\nIncorrect Entries with Negative Prices:\\n\")\n",
    "    print(negative_prices)\n",
    "    print(f\"\\nTotal Negative Price Records: {len(negative_prices)}\")\n",
    "else:\n",
    "    print(\"✅ No negative prices detected. All entries are valid.\")\n",
    "\n",
    "\n",
    "\n",
    "\n"
   ]
  },
  {
   "cell_type": "markdown",
   "metadata": {},
   "source": [
    "### Task 3: Check Missing Data Rates\n",
    "\n",
    "**Description**: Calculate the percentage of missing values in `customer_data.csv` ."
   ]
  },
  {
   "cell_type": "code",
   "execution_count": 2,
   "metadata": {},
   "outputs": [
    {
     "name": "stdout",
     "output_type": "stream",
     "text": [
      "Total Products Compared: 5\n",
      "Matching Prices: 3\n",
      "Price Accuracy: 60.00%\n",
      "\n",
      "Mismatched Entries:\n",
      "   product_id  price_company  price_trusted\n",
      "1         102           35.0           33.0\n",
      "4         105           60.0           59.0\n"
     ]
    }
   ],
   "source": [
    "import pandas as pd\n",
    "\n",
    "# Step 1: Create simulated data for company and trusted datasets\n",
    "company_data = {\n",
    "    \"product_id\": [101, 102, 103, 104, 105],\n",
    "    \"price\": [20.0, 35.0, 50.0, 45.0, 60.0]\n",
    "}\n",
    "\n",
    "trusted_data = {\n",
    "    \"product_id\": [101, 102, 103, 104, 105],\n",
    "    \"price\": [20.0, 33.0, 50.0, 45.0, 59.0]  # Note: price for 102 and 105 differ\n",
    "}\n",
    "\n",
    "# Step 2: Create DataFrames\n",
    "company_df = pd.DataFrame(company_data)\n",
    "trusted_df = pd.DataFrame(trusted_data)\n",
    "\n",
    "# Step 3: Merge on product_id\n",
    "merged_df = company_df.merge(trusted_df, on=\"product_id\", suffixes=('_company', '_trusted'))\n",
    "\n",
    "# Step 4: Compare prices\n",
    "merged_df[\"price_match\"] = merged_df[\"price_company\"] == merged_df[\"price_trusted\"]\n",
    "\n",
    "# Step 5: Calculate price accuracy\n",
    "total_products = merged_df.shape[0]\n",
    "matched_prices = merged_df[\"price_match\"].sum()\n",
    "accuracy_percentage = (matched_prices / total_products) * 100\n",
    "\n",
    "# Step 6: Output results\n",
    "print(f\"Total Products Compared: {total_products}\")\n",
    "print(f\"Matching Prices: {matched_prices}\")\n",
    "print(f\"Price Accuracy: {accuracy_percentage:.2f}%\")\n",
    "\n",
    "# Step 7: Show mismatches (if any)\n",
    "mismatches = merged_df[~merged_df[\"price_match\"]]\n",
    "if not mismatches.empty:\n",
    "    print(\"\\nMismatched Entries:\")\n",
    "    print(mismatches[[\"product_id\", \"price_company\", \"price_trusted\"]])\n",
    "else:\n",
    "    print(\"\\nAll prices match with the trusted source.\")"
   ]
  },
  {
   "cell_type": "code",
   "execution_count": 8,
   "metadata": {},
   "outputs": [
    {
     "name": "stdout",
     "output_type": "stream",
     "text": [
      "Error: File 'customer_data.csv' not found. Please check the file name or path.\n"
     ]
    }
   ],
   "source": [
    "\n",
    "\n",
    "\n",
    "\n",
    "\n",
    "\n",
    "\n",
    "\n",
    "import pandas as pd\n",
    "import os\n",
    "\n",
    "# Step 1: Define the file name\n",
    "file_path = \"customer_data.csv\"\n",
    "\n",
    "# Step 2: Check if the file exists\n",
    "if not os.path.exists(file_path):\n",
    "    print(f\"Error: File '{file_path}' not found. Please check the file name or path.\")\n",
    "else:\n",
    "    # Step 3: Load the dataset\n",
    "    df = pd.read_csv(file_path)\n",
    "\n",
    "    # Step 4: Calculate missing data percentage\n",
    "    missing_percentage = df.isnull().mean() * 100\n",
    "\n",
    "    # Step 5: Display the results\n",
    "    print(\"\\nMissing Data Percentage by Column:\\n\")\n",
    "    print(missing_percentage.sort_values(ascending=False).round(2))\n",
    "\n",
    "\n",
    "\n",
    "\n",
    "\n"
   ]
  },
  {
   "cell_type": "markdown",
   "metadata": {},
   "source": [
    "### Task 4: Handling Partially Available Records\n",
    "\n",
    "**Description**: In `customer_data.csv` , identify records with missing \"email\" or \"phone number\" and decide whether to drop or fill them."
   ]
  },
  {
   "cell_type": "code",
   "execution_count": 10,
   "metadata": {},
   "outputs": [
    {
     "name": "stdout",
     "output_type": "stream",
     "text": [
      "❌ File not found: 'customer_data.csv'\n",
      "📌 Please check the filename or place it in the same directory as this script.\n"
     ]
    }
   ],
   "source": [
    "\n",
    "\n",
    "\n",
    "import pandas as pd\n",
    "import os\n",
    "\n",
    "# Step 1: Try loading the dataset\n",
    "file_path = \"customer_data.csv\"\n",
    "\n",
    "if not os.path.exists(file_path):\n",
    "    print(f\"❌ File not found: '{file_path}'\\n📌 Please check the filename or place it in the same directory as this script.\")\n",
    "else:\n",
    "    df = pd.read_csv(file_path)\n",
    "\n",
    "    # Step 2: Identify records with missing 'email' or 'phone number'\n",
    "    partial_records = df[df[\"email\"].isnull() | df[\"phone number\"].isnull()]\n",
    "    \n",
    "    print(\"📋 Records with missing 'email' or 'phone number':\")\n",
    "    print(partial_records)\n",
    "\n",
    "    # Step 3A: Option to Drop records with missing contact info\n",
    "    df_dropped = df.dropna(subset=[\"email\", \"phone number\"])\n",
    "    print(f\"\\n✅ Records after dropping missing contacts: {len(df_dropped)} out of {len(df)}\")\n",
    "\n",
    "    # Step 3B: Option to Fill missing values with placeholder\n",
    "    df_filled = df.copy()\n",
    "    df_filled[\"email\"].fillna(\"unknown@example.com\", inplace=True)\n",
    "    df_filled[\"phone number\"].fillna(\"0000000000\", inplace=True)\n",
    "    print(\"\\n✅ Sample filled data (with placeholder values):\")\n",
    "    print(df_filled.head())\n",
    "\n",
    "\n",
    "\n",
    "\n",
    "\n",
    "\n",
    "\n",
    "\n",
    "\n",
    "\n",
    "\n",
    "\n",
    "\n",
    "\n",
    "\n",
    "\n",
    "\n",
    "\n",
    "\n"
   ]
  }
 ],
 "metadata": {
  "kernelspec": {
   "display_name": "Python 3",
   "language": "python",
   "name": "python3"
  },
  "language_info": {
   "codemirror_mode": {
    "name": "ipython",
    "version": 3
   },
   "file_extension": ".py",
   "mimetype": "text/x-python",
   "name": "python",
   "nbconvert_exporter": "python",
   "pygments_lexer": "ipython3",
   "version": "3.10.12"
  }
 },
 "nbformat": 4,
 "nbformat_minor": 2
}
