{
 "cells": [
  {
   "cell_type": "code",
   "execution_count": 2,
   "metadata": {},
   "outputs": [
    {
     "name": "stdout",
     "output_type": "stream",
     "text": [
      "Renamed Columns DataFrame:\n",
      "  Employee Name  Age  Monthly Salary\n",
      "0         Alice   25         50000.0\n",
      "1           Bob   30         60000.0\n",
      "\n",
      "DataFrame After Dropping Duplicates:\n",
      "    Name  Age   Salary\n",
      "0  Alice   25  50000.0\n",
      "1    Bob   30  60000.0\n"
     ]
    }
   ],
   "source": [
    "import pandas as pd\n",
    "\n",
    "# First dataset for renaming columns\n",
    "data1 = {\n",
    "    'Name': ['Alice', 'Bob'],\n",
    "    'Age': [25, 30],\n",
    "    'Salary': [50000.0, 60000.0]\n",
    "}\n",
    "\n",
    "df1 = pd.DataFrame(data1)\n",
    "\n",
    "# Rename specific columns\n",
    "df1.rename(columns={'Name': 'Employee Name', 'Salary': 'Monthly Salary'}, inplace=True)\n",
    "\n",
    "print(\"Renamed Columns DataFrame:\")\n",
    "print(df1)\n",
    "print()\n",
    "\n",
    "# Second dataset for dropping duplicates\n",
    "data2 = {\n",
    "    'Name': ['Alice', 'Bob', 'Alice'],\n",
    "    'Age': [25, 30, 25],\n",
    "    'Salary': [50000.0, 60000.0, 50000.0]\n",
    "}\n",
    "\n",
    "df2 = pd.DataFrame(data2)\n",
    "\n",
    "# Drop duplicate rows\n",
    "df2.drop_duplicates(inplace=True)\n",
    "\n",
    "print(\"DataFrame After Dropping Duplicates:\")\n",
    "print(df2)"
   ]
  },
  {
   "cell_type": "markdown",
   "metadata": {},
   "source": []
  }
 ],
 "metadata": {
  "kernelspec": {
   "display_name": "Python 3",
   "language": "python",
   "name": "python3"
  },
  "language_info": {
   "codemirror_mode": {
    "name": "ipython",
    "version": 3
   },
   "file_extension": ".py",
   "mimetype": "text/x-python",
   "name": "python",
   "nbconvert_exporter": "python",
   "pygments_lexer": "ipython3",
   "version": "3.10.12"
  }
 },
 "nbformat": 4,
 "nbformat_minor": 2
}
