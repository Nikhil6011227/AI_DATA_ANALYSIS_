{
 "cells": [
  {
   "cell_type": "code",
   "execution_count": 1,
   "metadata": {},
   "outputs": [
    {
     "name": "stdout",
     "output_type": "stream",
     "text": [
      "Mean of the dataset: 30.0\n",
      "Sum of the dataset: 150\n",
      "Maximum value: 50\n",
      "Minimum value: 10\n",
      "Standard Deviation: 14.142135623730951\n"
     ]
    }
   ],
   "source": [
    "# Title: Basic NumPy Operations\n",
    "# Description: Perform basic operations such as calculating the mean of the dataset.\n",
    "\n",
    "\n",
    "import numpy as np\n",
    "\n",
    "# Create a NumPy array\n",
    "data = np.array([10, 20, 30, 40, 50])\n",
    "\n",
    "# Calculate and display the mean\n",
    "mean_value = np.mean(data)\n",
    "print(\"Mean of the dataset:\", mean_value)\n",
    "\n",
    "# Other basic operations (optional)\n",
    "print(\"Sum of the dataset:\", np.sum(data))\n",
    "print(\"Maximum value:\", np.max(data))\n",
    "print(\"Minimum value:\", np.min(data))\n",
    "print(\"Standard Deviation:\", np.std(data))\n"
   ]
  }
 ],
 "metadata": {
  "kernelspec": {
   "display_name": "Python 3",
   "language": "python",
   "name": "python3"
  },
  "language_info": {
   "codemirror_mode": {
    "name": "ipython",
    "version": 3
   },
   "file_extension": ".py",
   "mimetype": "text/x-python",
   "name": "python",
   "nbconvert_exporter": "python",
   "pygments_lexer": "ipython3",
   "version": "3.10.12"
  }
 },
 "nbformat": 4,
 "nbformat_minor": 2
}
