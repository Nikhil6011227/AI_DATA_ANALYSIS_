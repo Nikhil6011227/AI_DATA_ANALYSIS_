{
 "cells": [
  {
   "cell_type": "markdown",
   "metadata": {},
   "source": [
    "## Calculate Data Quality Score\n",
    "**Introduction**: In this activity, you will calculate data quality scores for datasets using different metrics. You will explore examples where you assess completeness, accuracy, and consistency.\n",
    "\n",
    "### Task 1: Completeness Score\n",
    "1. Objective: Determine the percentage of non-missing values in a dataset.\n",
    "2. Steps:\n",
    "    - Load a sample dataset using Pandas.\n",
    "    - Identify the columns with missing values.\n",
    "    - Calculate the completeness score as the ratio of non-missing values to total values.\n",
    "    - E.g., a dataset with customer information."
   ]
  },
  {
   "cell_type": "code",
   "execution_count": 1,
   "metadata": {},
   "outputs": [
    {
     "name": "stdout",
     "output_type": "stream",
     "text": [
      "Missing values per column:\n",
      " Name     1\n",
      "Email    1\n",
      "Age      1\n",
      "dtype: int64\n",
      "\n",
      "Completeness Score (% non-missing values per column):\n",
      " Name     80.0\n",
      "Email    80.0\n",
      "Age      80.0\n",
      "dtype: float64\n"
     ]
    }
   ],
   "source": [
    "import pandas as pd\n",
    "import numpy as np\n",
    "\n",
    "# Step 1: Create sample dataset with missing values\n",
    "data = {\n",
    "    \"Name\": [\"Alice\", \"Bob\", None, \"David\", \"Eve\"],\n",
    "    \"Email\": [\"alice@example.com\", None, \"charlie@example.com\", \"david@example.com\", \"eve@example.com\"],\n",
    "    \"Age\": [25, 30, np.nan, 22, 45]\n",
    "}\n",
    "\n",
    "df = pd.DataFrame(data)\n",
    "\n",
    "# Step 2: Identify columns with missing values\n",
    "missing_counts = df.isnull().sum()\n",
    "print(\"Missing values per column:\\n\", missing_counts)\n",
    "\n",
    "# Step 3: Calculate completeness score per column (% of non-missing values)\n",
    "completeness = (1 - (missing_counts / len(df))) * 100\n",
    "print(\"\\nCompleteness Score (% non-missing values per column):\\n\", completeness)"
   ]
  },
  {
   "cell_type": "markdown",
   "metadata": {},
   "source": [
    "### Task 2: Accuracy Score\n",
    "\n",
    "1. Objective: Measure the accuracy of a dataset by comparing it against a reference dataset.\n",
    "2. Steps:\n",
    "    - Load the main dataset and a reference dataset.\n",
    "    - Select key columns for accuracy check.\n",
    "    - Match values from both datasets and calculate the accuracy percentage.\n",
    "    - E.g., along existing dataset with sales information."
   ]
  },
  {
   "cell_type": "code",
   "execution_count": 4,
   "metadata": {},
   "outputs": [
    {
     "name": "stdout",
     "output_type": "stream",
     "text": [
      "Merged Data with Accuracy Check:\n",
      "   CustomerID Name_main           Email_main  SalesAmount_main  is_accurate\n",
      "0           1     Alice    alice@example.com               100         True\n",
      "1           2       Bob      bob@example.com               150         True\n",
      "2           3   Charlie  charlie@example.com               200        False\n",
      "3           4     David    david@example.com               130         True\n",
      "4           5       Eve      eve@example.com               170        False\n",
      "\n",
      "Accuracy Score: 60.00%\n"
     ]
    }
   ],
   "source": [
    "import pandas as pd\n",
    "import numpy as np\n",
    "\n",
    "# Sample main dataset (could be sales or user data)\n",
    "main_data = {\n",
    "    \"CustomerID\": [1, 2, 3, 4, 5],\n",
    "    \"Name\": [\"Alice\", \"Bob\", \"Charlie\", \"David\", \"Eve\"],\n",
    "    \"Email\": [\"alice@example.com\", \"bob@example.com\", \"charlie@example.com\", \"david@example.com\", \"eve@example.com\"],\n",
    "    \"SalesAmount\": [100, 150, 200, 130, 170]\n",
    "}\n",
    "\n",
    "main_df = pd.DataFrame(main_data)\n",
    "\n",
    "# Reference dataset (the \"truth\" to compare against)\n",
    "reference_data = {\n",
    "    \"CustomerID\": [1, 2, 3, 4, 5],\n",
    "    \"Name\": [\"Alice\", \"Bob\", \"Charlie\", \"David\", \"Eva\"],  # Note: Eve is \"Eva\" here — intentional mismatch\n",
    "    \"Email\": [\"alice@example.com\", \"bob@example.com\", \"charlie@example.com\", \"david@example.com\", \"eve@example.com\"],\n",
    "    \"SalesAmount\": [100, 150, 210, 130, 170]  # Note: mismatch in SalesAmount for CustomerID=3\n",
    "}\n",
    "\n",
    "reference_df = pd.DataFrame(reference_data)\n",
    "\n",
    "# Select key columns to check accuracy on\n",
    "key_columns = [\"Name\", \"Email\", \"SalesAmount\"]\n",
    "\n",
    "# Merge datasets on CustomerID (primary key)\n",
    "merged_df = main_df.merge(reference_df, on=\"CustomerID\", suffixes=('_main', '_ref'))\n",
    "\n",
    "# Function to check if row values in key columns match exactly\n",
    "def check_accuracy(row):\n",
    "    for col in key_columns:\n",
    "        main_val = row[f\"{col}_main\"]\n",
    "        ref_val = row[f\"{col}_ref\"]\n",
    "        if pd.isnull(main_val) and pd.isnull(ref_val):\n",
    "            continue  # Treat missing values as matching\n",
    "        if main_val != ref_val:\n",
    "            return False\n",
    "    return True\n",
    "\n",
    "# Apply the accuracy check row-wise\n",
    "merged_df['is_accurate'] = merged_df.apply(check_accuracy, axis=1)\n",
    "\n",
    "# Calculate accuracy percentage\n",
    "accuracy_percentage = merged_df['is_accurate'].mean() * 100\n",
    "\n",
    "print(\"Merged Data with Accuracy Check:\")\n",
    "print(merged_df[['CustomerID'] + [f\"{col}_main\" for col in key_columns] + ['is_accurate']])\n",
    "print(f\"\\nAccuracy Score: {accuracy_percentage:.2f}%\")"
   ]
  },
  {
   "cell_type": "markdown",
   "metadata": {},
   "source": [
    "### Task 3: Consistency Score\n",
    "\n",
    "1. Objective: Evaluate the consistency within a dataset for specific columns.\n",
    "2. Steps:\n",
    "    - Choose a column expected to have consistent values.\n",
    "    - Use statistical or rule-based checks to identify inconsistencies.\n",
    "    - Calculate the consistency score by the ratio of consistent to total entries.\n",
    "    - E.g., validating phone number formats in a contact list."
   ]
  },
  {
   "cell_type": "code",
   "execution_count": 3,
   "metadata": {},
   "outputs": [
    {
     "name": "stdout",
     "output_type": "stream",
     "text": [
      "      Name            Phone  is_consistent\n",
      "0    Alice  +1-202-555-0136           True\n",
      "1      Bob     202-555-0198          False\n",
      "2  Charlie          5550136          False\n",
      "3    David  +1 202 555 0178           True\n",
      "4      Eve     202.555.0156          False\n",
      "\n",
      "Consistency Score: 40.00%\n"
     ]
    }
   ],
   "source": [
    "\n",
    "import pandas as pd\n",
    "import re\n",
    "\n",
    "# Step 1: Sample dataset with phone numbers\n",
    "data = {\n",
    "    \"Name\": [\"Alice\", \"Bob\", \"Charlie\", \"David\", \"Eve\"],\n",
    "    \"Phone\": [\"+1-202-555-0136\", \"202-555-0198\", \"5550136\", \"+1 202 555 0178\", \"202.555.0156\"]\n",
    "}\n",
    "\n",
    "df = pd.DataFrame(data)\n",
    "\n",
    "# Step 2: Define a phone number pattern (e.g., US phone number format with country code)\n",
    "phone_pattern = re.compile(r\"^\\+1[- ]?\\d{3}[- ]?\\d{3}[- ]?\\d{4}$\")\n",
    "\n",
    "# Step 3: Check each phone number for consistency\n",
    "def is_consistent(phone):\n",
    "    # Normalize phone string (remove dots)\n",
    "    phone = phone.replace(\".\", \"\").strip()\n",
    "    return bool(phone_pattern.match(phone))\n",
    "\n",
    "df[\"is_consistent\"] = df[\"Phone\"].apply(is_consistent)\n",
    "\n",
    "# Step 4: Calculate consistency score (% of consistent phone numbers)\n",
    "consistency_score = df[\"is_consistent\"].mean() * 100\n",
    "\n",
    "print(df)\n",
    "print(f\"\\nConsistency Score: {consistency_score:.2f}%\")"
   ]
  }
 ],
 "metadata": {
  "kernelspec": {
   "display_name": "Python 3",
   "language": "python",
   "name": "python3"
  },
  "language_info": {
   "codemirror_mode": {
    "name": "ipython",
    "version": 3
   },
   "file_extension": ".py",
   "mimetype": "text/x-python",
   "name": "python",
   "nbconvert_exporter": "python",
   "pygments_lexer": "ipython3",
   "version": "3.10.12"
  }
 },
 "nbformat": 4,
 "nbformat_minor": 2
}
