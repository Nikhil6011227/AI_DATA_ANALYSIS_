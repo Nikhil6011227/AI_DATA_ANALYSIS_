{
 "cells": [
  {
   "cell_type": "markdown",
   "metadata": {},
   "source": [
    "## Using AI for Anomalies Detection in Data Quality\n",
    "**Description**: Implement an AI-based approach to detect anomalies in data quality.\n",
    "\n",
    "**Steps**:\n",
    "1. Use an Anomaly Detection Algorithm:\n",
    "    - Use sklearn's Isolation Forest for anomaly detection.\n",
    "\n",
    "**Example data:**\n",
    "\n",
    "data = np.array([[25, 50000], [30, 60000], [35, 75000], [40, None], [45, 100000]])\n",
    "\n",
    "2. Integrate with Great Expectations:\n",
    "    - Generate alerts if anomalies are detected:"
   ]
  },
  {
   "cell_type": "code",
   "execution_count": 2,
   "metadata": {},
   "outputs": [
    {
     "name": "stdout",
     "output_type": "stream",
     "text": [
      "Data after imputation:\n",
      "  Age    Salary\n",
      "0  25   50000.0\n",
      "1  30   60000.0\n",
      "2  35   75000.0\n",
      "3  40   67500.0\n",
      "4  45  100000.0\n",
      "\n",
      "Anomaly predictions (-1=anomaly, 1=normal):\n",
      "  Age    Salary  anomaly\n",
      "0  25   50000.0        1\n",
      "1  30   60000.0        1\n",
      "2  35   75000.0        1\n",
      "3  40   67500.0        1\n",
      "4  45  100000.0       -1\n"
     ]
    },
    {
     "ename": "AttributeError",
     "evalue": "module 'great_expectations' has no attribute 'from_pandas'",
     "output_type": "error",
     "traceback": [
      "\u001b[0;31m---------------------------------------------------------------------------\u001b[0m",
      "\u001b[0;31mAttributeError\u001b[0m                            Traceback (most recent call last)",
      "Cell \u001b[0;32mIn[2], line 66\u001b[0m\n\u001b[1;32m     63\u001b[0m     alert_if_anomaly_detected(df)\n\u001b[1;32m     65\u001b[0m \u001b[38;5;28;01mif\u001b[39;00m \u001b[38;5;18m__name__\u001b[39m \u001b[38;5;241m==\u001b[39m \u001b[38;5;124m\"\u001b[39m\u001b[38;5;124m__main__\u001b[39m\u001b[38;5;124m\"\u001b[39m:\n\u001b[0;32m---> 66\u001b[0m     \u001b[43mmain\u001b[49m\u001b[43m(\u001b[49m\u001b[43m)\u001b[49m\n",
      "Cell \u001b[0;32mIn[2], line 56\u001b[0m, in \u001b[0;36mmain\u001b[0;34m()\u001b[0m\n\u001b[1;32m     55\u001b[0m \u001b[38;5;28;01mdef\u001b[39;00m\u001b[38;5;250m \u001b[39m\u001b[38;5;21mmain\u001b[39m():\n\u001b[0;32m---> 56\u001b[0m     ge_df \u001b[38;5;241m=\u001b[39m \u001b[43mcreate_ge_dataset\u001b[49m\u001b[43m(\u001b[49m\u001b[43mdf\u001b[49m\u001b[43m)\u001b[49m\n\u001b[1;32m     57\u001b[0m     is_data_quality_good \u001b[38;5;241m=\u001b[39m validate_data(ge_df)\n\u001b[1;32m     58\u001b[0m     \u001b[38;5;28;01mif\u001b[39;00m \u001b[38;5;129;01mnot\u001b[39;00m is_data_quality_good:\n",
      "Cell \u001b[0;32mIn[2], line 32\u001b[0m, in \u001b[0;36mcreate_ge_dataset\u001b[0;34m(df)\u001b[0m\n\u001b[1;32m     31\u001b[0m \u001b[38;5;28;01mdef\u001b[39;00m\u001b[38;5;250m \u001b[39m\u001b[38;5;21mcreate_ge_dataset\u001b[39m(df):\n\u001b[0;32m---> 32\u001b[0m     ge_df \u001b[38;5;241m=\u001b[39m \u001b[43mge\u001b[49m\u001b[38;5;241;43m.\u001b[39;49m\u001b[43mfrom_pandas\u001b[49m(df)\n\u001b[1;32m     34\u001b[0m     ge_df\u001b[38;5;241m.\u001b[39mexpect_column_to_exist(\u001b[38;5;124m\"\u001b[39m\u001b[38;5;124mAge\u001b[39m\u001b[38;5;124m\"\u001b[39m)\n\u001b[1;32m     35\u001b[0m     ge_df\u001b[38;5;241m.\u001b[39mexpect_column_values_to_not_be_null(\u001b[38;5;124m\"\u001b[39m\u001b[38;5;124mAge\u001b[39m\u001b[38;5;124m\"\u001b[39m)\n",
      "\u001b[0;31mAttributeError\u001b[0m: module 'great_expectations' has no attribute 'from_pandas'"
     ]
    }
   ],
   "source": [
    "import numpy as np\n",
    "import pandas as pd\n",
    "from sklearn.ensemble import IsolationForest\n",
    "import great_expectations as ge\n",
    "\n",
    "# Sample data with a missing value (None)\n",
    "data = np.array([[25, 50000], [30, 60000], [35, 75000], [40, None], [45, 100000]])\n",
    "\n",
    "# Convert to DataFrame for convenience\n",
    "df = pd.DataFrame(data, columns=[\"Age\", \"Salary\"])\n",
    "\n",
    "# Step 1: Handle missing data (simple imputation: fill missing with median)\n",
    "df[\"Salary\"] = pd.to_numeric(df[\"Salary\"], errors='coerce')\n",
    "salary_median = df[\"Salary\"].median()\n",
    "df[\"Salary\"].fillna(salary_median, inplace=True)\n",
    "\n",
    "print(\"Data after imputation:\")\n",
    "print(df)\n",
    "\n",
    "# Step 2: Anomaly detection using Isolation Forest\n",
    "model = IsolationForest(contamination=0.2, random_state=42)\n",
    "model.fit(df)\n",
    "\n",
    "# Predict anomalies (-1 means anomaly, 1 means normal)\n",
    "df['anomaly'] = model.predict(df)\n",
    "\n",
    "print(\"\\nAnomaly predictions (-1=anomaly, 1=normal):\")\n",
    "print(df[['Age', 'Salary', 'anomaly']])\n",
    "\n",
    "# Step 3: Use Great Expectations PandasDataset for expectations\n",
    "def create_ge_dataset(df):\n",
    "    ge_df = ge.from_pandas(df)\n",
    "\n",
    "    ge_df.expect_column_to_exist(\"Age\")\n",
    "    ge_df.expect_column_values_to_not_be_null(\"Age\")\n",
    "    ge_df.expect_column_to_exist(\"Salary\")\n",
    "    ge_df.expect_column_values_to_not_be_null(\"Salary\")\n",
    "\n",
    "    return ge_df\n",
    "\n",
    "# Validate data quality expectations\n",
    "def validate_data(ge_df):\n",
    "    results = ge_df.validate()\n",
    "    return results[\"success\"]\n",
    "\n",
    "# Main alert function\n",
    "def alert_if_anomaly_detected(df):\n",
    "    if (df['anomaly'] == -1).any():\n",
    "        print(\"🚨 ALERT: Anomalies detected in data quality!\")\n",
    "        anomalies = df[df['anomaly'] == -1]\n",
    "        print(anomalies)\n",
    "    else:\n",
    "        print(\"Data quality is normal — no anomalies detected.\")\n",
    "\n",
    "def main():\n",
    "    ge_df = create_ge_dataset(df)\n",
    "    is_data_quality_good = validate_data(ge_df)\n",
    "    if not is_data_quality_good:\n",
    "        print(\"Basic data quality checks failed!\")\n",
    "    else:\n",
    "        print(\"Basic data quality checks passed.\")\n",
    "\n",
    "    alert_if_anomaly_detected(df)\n",
    "\n",
    "if __name__ == \"__main__\":\n",
    "    main()"
   ]
  }
 ],
 "metadata": {
  "kernelspec": {
   "display_name": "Python 3",
   "language": "python",
   "name": "python3"
  },
  "language_info": {
   "codemirror_mode": {
    "name": "ipython",
    "version": 3
   },
   "file_extension": ".py",
   "mimetype": "text/x-python",
   "name": "python",
   "nbconvert_exporter": "python",
   "pygments_lexer": "ipython3",
   "version": "3.10.12"
  }
 },
 "nbformat": 4,
 "nbformat_minor": 2
}
