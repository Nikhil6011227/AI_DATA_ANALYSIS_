{
 "cells": [
  {
   "cell_type": "markdown",
   "metadata": {},
   "source": [
    "### Detect Data Drift in ML Models\n",
    "**Objective**: Monitor and detect changes in data distributions that impact ML model performance.\n",
    "\n",
    "**Task**: Categorical Feature Drift\n",
    "\n",
    "**Steps**:\n",
    "1. Load the baseline distribution for a categorical feature (e.g., gender ) from your training dataset.\n",
    "2. Load the same feature from your current production data.\n",
    "3. Use chi-squared tests to compare the distributions of the categorical feature.\n",
    "4. Step 4: If significant drift is detected, investigate the cause and update the model as needed."
   ]
  },
  {
   "cell_type": "code",
   "execution_count": 2,
   "metadata": {},
   "outputs": [
    {
     "name": "stdout",
     "output_type": "stream",
     "text": [
      "Chi-squared Statistic: 37.6924\n",
      "P-value: 0.0000\n",
      "⚠️ Drift detected in categorical feature distribution (statistically significant).\n"
     ]
    }
   ],
   "source": [
    "import pandas as pd\n",
    "import numpy as np\n",
    "from scipy.stats import chi2_contingency\n",
    "\n",
    "# Step 1: Load baseline (training) data with 'gender'\n",
    "baseline_data = pd.DataFrame({\n",
    "    'gender': np.random.choice(['Male', 'Female'], size=1000, p=[0.6, 0.4])\n",
    "})\n",
    "\n",
    "# Step 2: Load production data with same feature\n",
    "production_data = pd.DataFrame({\n",
    "    'gender': np.random.choice(['Male', 'Female'], size=1000, p=[0.45, 0.55])  # Simulated drift\n",
    "})\n",
    "\n",
    "# Step 3: Compute frequency counts\n",
    "baseline_counts = baseline_data['gender'].value_counts().sort_index()\n",
    "production_counts = production_data['gender'].value_counts().sort_index()\n",
    "\n",
    "# Align categories across both distributions\n",
    "all_categories = sorted(set(baseline_counts.index).union(set(production_counts.index)))\n",
    "baseline_freq = [baseline_counts.get(cat, 0) for cat in all_categories]\n",
    "production_freq = [production_counts.get(cat, 0) for cat in all_categories]\n",
    "\n",
    "# Step 4: Build contingency table and apply Chi-squared test\n",
    "contingency_table = [baseline_freq, production_freq]\n",
    "chi2, p_value, dof, expected = chi2_contingency(contingency_table)\n",
    "\n",
    "# Step 5: Results\n",
    "print(f\"Chi-squared Statistic: {chi2:.4f}\")\n",
    "print(f\"P-value: {p_value:.4f}\")\n",
    "\n",
    "if p_value < 0.05:\n",
    "    print(\"⚠️ Drift detected in categorical feature distribution (statistically significant).\")\n",
    "else:\n",
    "    print(\"✅ No significant drift detected in categorical feature distribution.\")"
   ]
  }
 ],
 "metadata": {
  "kernelspec": {
   "display_name": "Python 3",
   "language": "python",
   "name": "python3"
  },
  "language_info": {
   "codemirror_mode": {
    "name": "ipython",
    "version": 3
   },
   "file_extension": ".py",
   "mimetype": "text/x-python",
   "name": "python",
   "nbconvert_exporter": "python",
   "pygments_lexer": "ipython3",
   "version": "3.10.12"
  }
 },
 "nbformat": 4,
 "nbformat_minor": 2
}
