{
 "cells": [
  {
   "cell_type": "markdown",
   "metadata": {},
   "source": [
    "## Detect Schema Mismatches in Data Pipelines\n",
    "**Objective**: Identify and resolve schema mismatches that commonly occur in data pipelines.\n",
    "\n",
    "**Task**: Column Name Mismatch\n",
    "\n",
    "**Steps**:\n",
    "1. Load the source DataFrame with the below schema:\n",
    "    - id : Integer\n",
    "    - name : String\n",
    "    - age : Integer\n",
    "2. Load the target DataFrame with the below schema:\n",
    "    - id : Integer\n",
    "    - fullname : String\n",
    "    - age : Integer\n",
    "3. Use a schema comparison tool or write a simple function to detect mismatches in column names.\n",
    "4. Resolve the mismatch by renaming the `fullname` column in the target DataFrame to `name` ."
   ]
  },
  {
   "cell_type": "code",
   "execution_count": 1,
   "metadata": {},
   "outputs": [
    {
     "name": "stdout",
     "output_type": "stream",
     "text": [
      "🔍 Schema Comparison:\n",
      "❌ Columns in source but not in target: {'name'}\n",
      "❌ Columns in target but not in source: {'fullname'}\n",
      "\n",
      "✅ Mismatch resolved. Updated target columns: ['id', 'name', 'age']\n",
      "🔍 Schema Comparison:\n",
      "✅ Column names match.\n"
     ]
    },
    {
     "data": {
      "text/plain": [
       "(set(), set())"
      ]
     },
     "execution_count": 1,
     "metadata": {},
     "output_type": "execute_result"
    }
   ],
   "source": [
    "import pandas as pd\n",
    "\n",
    "# Step 1: Create the source DataFrame\n",
    "df_source = pd.DataFrame({\n",
    "    'id': [1, 2, 3],\n",
    "    'name': ['Alice', 'Bob', 'Charlie'],\n",
    "    'age': [25, 30, 35]\n",
    "})\n",
    "\n",
    "# Step 2: Create the target DataFrame with a column name mismatch\n",
    "df_target = pd.DataFrame({\n",
    "    'id': [1, 2, 3],\n",
    "    'fullname': ['Alice A', 'Bob B', 'Charlie C'],\n",
    "    'age': [25, 30, 35]\n",
    "})\n",
    "\n",
    "# Step 3: Function to detect column name mismatches\n",
    "def detect_column_mismatches(df1, df2):\n",
    "    source_cols = set(df1.columns)\n",
    "    target_cols = set(df2.columns)\n",
    "\n",
    "    missing_in_target = source_cols - target_cols\n",
    "    missing_in_source = target_cols - source_cols\n",
    "\n",
    "    print(\"🔍 Schema Comparison:\")\n",
    "    if not missing_in_source and not missing_in_target:\n",
    "        print(\"✅ Column names match.\")\n",
    "    else:\n",
    "        if missing_in_target:\n",
    "            print(f\"❌ Columns in source but not in target: {missing_in_target}\")\n",
    "        if missing_in_source:\n",
    "            print(f\"❌ Columns in target but not in source: {missing_in_source}\")\n",
    "    \n",
    "    return missing_in_target, missing_in_source\n",
    "\n",
    "# Detect mismatches before resolving\n",
    "missing_source, missing_target = detect_column_mismatches(df_source, df_target)\n",
    "\n",
    "# Step 4: Resolve mismatch by renaming 'fullname' to 'name' in target DataFrame\n",
    "df_target.rename(columns={'fullname': 'name'}, inplace=True)\n",
    "\n",
    "print(\"\\n✅ Mismatch resolved. Updated target columns:\", df_target.columns.tolist())\n",
    "\n",
    "# Optional: Confirm schema match again\n",
    "detect_column_mismatches(df_source, df_target)"
   ]
  }
 ],
 "metadata": {
  "kernelspec": {
   "display_name": "Python 3",
   "language": "python",
   "name": "python3"
  },
  "language_info": {
   "codemirror_mode": {
    "name": "ipython",
    "version": 3
   },
   "file_extension": ".py",
   "mimetype": "text/x-python",
   "name": "python",
   "nbconvert_exporter": "python",
   "pygments_lexer": "ipython3",
   "version": "3.10.12"
  }
 },
 "nbformat": 4,
 "nbformat_minor": 2
}
