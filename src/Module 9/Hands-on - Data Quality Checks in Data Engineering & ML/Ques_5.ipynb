{
 "cells": [
  {
   "cell_type": "markdown",
   "metadata": {},
   "source": [
    "## Detect Schema Mismatches in Data Pipelines\n",
    "**Objective**: Identify and resolve schema mismatches that commonly occur in data pipelines.\n",
    "\n",
    "**Task**: Missing Column\n",
    "\n",
    "1. Load the source DataFrame with the below schema:\n",
    "    - id : Integer\n",
    "    - email : String\n",
    "    - signup_date : Date\n",
    "2. Load the target DataFrame with the below schema:\n",
    "    - id : Integer\n",
    "    - email : String\n",
    "3. Implement a check to identify any columns that are present in the source DataFrame but missing in the target.\n",
    "4. Add the missing `signup_date` column to the target DataFrame."
   ]
  },
  {
   "cell_type": "code",
   "execution_count": 2,
   "metadata": {},
   "outputs": [
    {
     "name": "stdout",
     "output_type": "stream",
     "text": [
      "Missing columns in target: ['signup_date']\n",
      "Added missing column 'signup_date' with NaN values.\n",
      "\n",
      "✅ Final Reconciled Target DataFrame:\n",
      "   id          email  signup_date\n",
      "0   1  a@example.com          NaN\n",
      "1   2  b@example.com          NaN\n",
      "2   3  c@example.com          NaN\n"
     ]
    }
   ],
   "source": [
    "import pandas as pd\n",
    "import numpy as np\n",
    "\n",
    "# Step 1: Load source DataFrame\n",
    "df_source = pd.DataFrame({\n",
    "    'id': [1, 2, 3],\n",
    "    'email': ['a@example.com', 'b@example.com', 'c@example.com'],\n",
    "    'signup_date': pd.to_datetime(['2023-01-01', '2023-01-02', '2023-01-03'])\n",
    "})\n",
    "\n",
    "# Step 2: Load target DataFrame (missing 'signup_date')\n",
    "df_target = pd.DataFrame({\n",
    "    'id': [1, 2, 3],\n",
    "    'email': ['a@example.com', 'b@example.com', 'c@example.com']\n",
    "})\n",
    "\n",
    "# Step 3: Function to identify missing columns\n",
    "def find_missing_columns(source_df, target_df):\n",
    "    return [col for col in source_df.columns if col not in target_df.columns]\n",
    "\n",
    "# Step 4: Function to add missing columns with NaN values or default values\n",
    "def reconcile_missing_columns(source_df, target_df):\n",
    "    if source_df.empty or target_df.empty:\n",
    "        raise ValueError(\"One of the DataFrames is empty. Cannot proceed with schema reconciliation.\")\n",
    "\n",
    "    missing_cols = find_missing_columns(source_df, target_df)\n",
    "    print(f\"Missing columns in target: {missing_cols}\")\n",
    "    \n",
    "    for col in missing_cols:\n",
    "        target_df[col] = np.nan  # or use source_df[col].dtype-compatible default\n",
    "        print(f\"Added missing column '{col}' with NaN values.\")\n",
    "    \n",
    "    return target_df\n",
    "\n",
    "# Step 5: Reconcile schema\n",
    "df_target = reconcile_missing_columns(df_source, df_target)\n",
    "\n",
    "# Final Output\n",
    "print(\"\\n✅ Final Reconciled Target DataFrame:\")\n",
    "print(df_target)"
   ]
  }
 ],
 "metadata": {
  "kernelspec": {
   "display_name": "Python 3",
   "language": "python",
   "name": "python3"
  },
  "language_info": {
   "codemirror_mode": {
    "name": "ipython",
    "version": 3
   },
   "file_extension": ".py",
   "mimetype": "text/x-python",
   "name": "python",
   "nbconvert_exporter": "python",
   "pygments_lexer": "ipython3",
   "version": "3.10.12"
  }
 },
 "nbformat": 4,
 "nbformat_minor": 2
}
