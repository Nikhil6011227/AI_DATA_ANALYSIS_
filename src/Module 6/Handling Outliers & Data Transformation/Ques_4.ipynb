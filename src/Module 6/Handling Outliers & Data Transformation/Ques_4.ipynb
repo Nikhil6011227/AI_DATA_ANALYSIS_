{
 "cells": [
  {
   "cell_type": "code",
   "execution_count": 2,
   "metadata": {},
   "outputs": [
    {
     "name": "stdout",
     "output_type": "stream",
     "text": [
      "   X1  X2  Mahalanobis_D  Outlier\n",
      "0   2   8       1.511858    False\n",
      "1   3   7       0.956183    False\n",
      "2   4   6       0.478091    False\n",
      "3   5   5       0.478091    False\n",
      "4   6   4       0.956183    False\n",
      "5   7   3       1.511858    False\n",
      "6  50   1       2.267787    False\n"
     ]
    }
   ],
   "source": [
    "# Question: Multivariate Outlier Detection Using Mahalanobis Distance\n",
    "# Description: Implement Mahalanobis distance to detect multivariate outliers in a dataset.\n",
    "\n",
    "import numpy as np\n",
    "import pandas as pd\n",
    "from scipy.stats import chi2\n",
    "\n",
    "# Sample 2D data (could be more dimensions)\n",
    "data = {\n",
    "    'X1': [2, 3, 4, 5, 6, 7, 50],  # 50 is an outlier\n",
    "    'X2': [8, 7, 6, 5, 4, 3, 1]\n",
    "}\n",
    "df = pd.DataFrame(data)\n",
    "\n",
    "# Calculate mean vector and covariance matrix\n",
    "mean_vec = df.mean().values\n",
    "cov_matrix = np.cov(df.values, rowvar=False)\n",
    "inv_cov_matrix = np.linalg.inv(cov_matrix)\n",
    "\n",
    "# Compute Mahalanobis distance for each point\n",
    "def mahalanobis_distance(row, mean, inv_cov):\n",
    "    diff = row - mean\n",
    "    return np.sqrt(diff.T @ inv_cov @ diff)\n",
    "\n",
    "df['Mahalanobis_D'] = df.apply(lambda row: mahalanobis_distance(row.values, mean_vec, inv_cov_matrix), axis=1)\n",
    "\n",
    "# Set threshold based on Chi-square distribution (p=0.99)\n",
    "threshold = np.sqrt(chi2.ppf((0.99), df=df.shape[1]))\n",
    "\n",
    "# Detect outliers\n",
    "df['Outlier'] = df['Mahalanobis_D'] > threshold\n",
    "\n",
    "print(df)"
   ]
  }
 ],
 "metadata": {
  "kernelspec": {
   "display_name": "Python 3",
   "language": "python",
   "name": "python3"
  },
  "language_info": {
   "codemirror_mode": {
    "name": "ipython",
    "version": 3
   },
   "file_extension": ".py",
   "mimetype": "text/x-python",
   "name": "python",
   "nbconvert_exporter": "python",
   "pygments_lexer": "ipython3",
   "version": "3.10.12"
  }
 },
 "nbformat": 4,
 "nbformat_minor": 2
}
