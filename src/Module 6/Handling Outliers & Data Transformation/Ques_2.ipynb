{
 "cells": [
  {
   "cell_type": "code",
   "execution_count": 1,
   "metadata": {},
   "outputs": [
    {
     "name": "stdout",
     "output_type": "stream",
     "text": [
      "Original Data: [ 10  12  13  14  15  16 100 120 130]\n",
      "Winsorized Data: [ 10  12  13  14  15  16 100 120 130]\n"
     ]
    }
   ],
   "source": [
    "# Question: Winsorization of Data\n",
    "# Description: Apply Winsorization to a given dataset to handle outliers.\n",
    "\n",
    "import numpy as np\n",
    "import pandas as pd\n",
    "from scipy.stats.mstats import winsorize\n",
    "\n",
    "# Sample data with outliers\n",
    "data = [10, 12, 13, 14, 15, 16, 100, 120, 130]  # 100, 120, 130 are outliers\n",
    "\n",
    "# Convert to numpy array\n",
    "arr = np.array(data)\n",
    "\n",
    "# Apply Winsorization: limit values below 5th and above 95th percentile\n",
    "winsorized_arr = winsorize(arr, limits=[0.05, 0.05])\n",
    "\n",
    "print(\"Original Data:\", arr)\n",
    "print(\"Winsorized Data:\", winsorized_arr)"
   ]
  }
 ],
 "metadata": {
  "kernelspec": {
   "display_name": "Python 3",
   "language": "python",
   "name": "python3"
  },
  "language_info": {
   "codemirror_mode": {
    "name": "ipython",
    "version": 3
   },
   "file_extension": ".py",
   "mimetype": "text/x-python",
   "name": "python",
   "nbconvert_exporter": "python",
   "pygments_lexer": "ipython3",
   "version": "3.10.12"
  }
 },
 "nbformat": 4,
 "nbformat_minor": 2
}
