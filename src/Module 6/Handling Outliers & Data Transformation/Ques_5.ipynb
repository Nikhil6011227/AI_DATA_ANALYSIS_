{
 "cells": [
  {
   "cell_type": "code",
   "execution_count": 1,
   "metadata": {},
   "outputs": [
    {
     "data": {
      "image/png": "[encoded data removed]",
      "text/plain": [
       "<Figure size 800x400 with 1 Axes>"
      ]
     },
     "metadata": {},
     "output_type": "display_data"
    },
    {
     "name": "stdout",
     "output_type": "stream",
     "text": [
      "    Values   Z_score  Zscore_Outlier  IQR_Outlier\n",
      "0       10  0.484436           False        False\n",
      "1       12  0.421052           False        False\n",
      "2       12  0.421052           False        False\n",
      "3       13  0.389360           False        False\n",
      "4       12  0.421052           False        False\n",
      "5       14  0.357668           False        False\n",
      "6       13  0.389360           False        False\n",
      "7      100  2.367849           False         True\n",
      "8      105  2.526310           False         True\n",
      "9       12  0.421052           False        False\n",
      "10      13  0.389360           False        False\n",
      "11      14  0.357668           False        False\n",
      "12      11  0.452744           False        False\n",
      "13      13  0.389360           False        False\n",
      "\n",
      "Number of outliers detected:\n",
      "Z-score method: 0\n",
      "IQR method: 2\n"
     ]
    }
   ],
   "source": [
    "# Question: Combining Multiple Outlier Detection Methods\n",
    "# Description: Combine Z-score, IQR, and Boxplot methods to detect and compare outliers in adataset.\n",
    "\n",
    "\n",
    "import pandas as pd\n",
    "import numpy as np\n",
    "import matplotlib.pyplot as plt\n",
    "import seaborn as sns\n",
    "from scipy import stats\n",
    "\n",
    "# Sample dataset with outliers\n",
    "data = {\n",
    "    'Values': [10, 12, 12, 13, 12, 14, 13, 100, 105, 12, 13, 14, 11, 13]\n",
    "}\n",
    "df = pd.DataFrame(data)\n",
    "\n",
    "# 1. Z-score method\n",
    "df['Z_score'] = np.abs(stats.zscore(df['Values']))\n",
    "zscore_outliers = df['Z_score'] > 3\n",
    "\n",
    "# 2. IQR method\n",
    "Q1 = df['Values'].quantile(0.25)\n",
    "Q3 = df['Values'].quantile(0.75)\n",
    "IQR = Q3 - Q1\n",
    "lower_bound = Q1 - 1.5 * IQR\n",
    "upper_bound = Q3 + 1.5 * IQR\n",
    "iqr_outliers = (df['Values'] < lower_bound) | (df['Values'] > upper_bound)\n",
    "\n",
    "# 3. Boxplot method (same as IQR, but let's visualize)\n",
    "plt.figure(figsize=(8,4))\n",
    "sns.boxplot(x=df['Values'])\n",
    "plt.title('Boxplot for Outlier Detection')\n",
    "plt.show()\n",
    "\n",
    "# Add outlier flags to DataFrame for comparison\n",
    "df['Zscore_Outlier'] = zscore_outliers\n",
    "df['IQR_Outlier'] = iqr_outliers\n",
    "\n",
    "print(df)\n",
    "\n",
    "# Summary counts\n",
    "print(\"\\nNumber of outliers detected:\")\n",
    "print(\"Z-score method:\", zscore_outliers.sum())\n",
    "print(\"IQR method:\", iqr_outliers.sum())\n"
   ]
  }
 ],
 "metadata": {
  "kernelspec": {
   "display_name": "Python 3",
   "language": "python",
   "name": "python3"
  },
  "language_info": {
   "codemirror_mode": {
    "name": "ipython",
    "version": 3
   },
   "file_extension": ".py",
   "mimetype": "text/x-python",
   "name": "python",
   "nbconvert_exporter": "python",
   "pygments_lexer": "ipython3",
   "version": "3.10.12"
  }
 },
 "nbformat": 4,
 "nbformat_minor": 2
}
