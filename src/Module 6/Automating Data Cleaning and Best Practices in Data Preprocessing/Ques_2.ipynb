{
 "cells": [
  {
   "cell_type": "markdown",
   "metadata": {},
   "source": [
    "    Task: Complete Pipeline for a Dataset\n",
    "1. Objective: Build a complex pipeline with multiple transformations.\n",
    "2. Steps:\n",
    "    - Load a sample dataset.\n",
    "    - Define a transformation pipeline with both imputation and scaling."
   ]
  },
  {
   "cell_type": "code",
   "execution_count": null,
   "metadata": {},
   "outputs": [],
   "source": []
  },
  {
   "cell_type": "code",
   "execution_count": null,
   "metadata": {},
   "outputs": [],
   "source": []
  },
  {
   "cell_type": "code",
   "execution_count": null,
   "metadata": {},
   "outputs": [],
   "source": [
    "# Write your code from here\n"
   ]
  },
  {
   "cell_type": "code",
   "execution_count": 2,
   "metadata": {},
   "outputs": [
    {
     "name": "stdout",
     "output_type": "stream",
     "text": [
      "Original DataFrame:\n",
      "    Age   Salary  Gender\n",
      "0  25.0  50000.0    Male\n",
      "1   NaN  60000.0  Female\n",
      "2  35.0      NaN  Female\n",
      "3  40.0  70000.0     NaN\n",
      "4   NaN  80000.0    Male\n",
      "\n",
      "Transformed DataFrame:\n",
      "        Age Salary  Gender\n",
      "0 -1.725164   -1.5    Male\n",
      "1       0.0   -0.5  Female\n",
      "2  0.345033    0.0  Female\n",
      "3  1.380131    0.5  Female\n",
      "4       0.0    1.5    Male\n"
     ]
    }
   ],
   "source": [
    "# Task: Imputation Function\n",
    "\n",
    "\n",
    "import pandas as pd\n",
    "import numpy as np\n",
    "from sklearn.pipeline import Pipeline\n",
    "from sklearn.impute import SimpleImputer\n",
    "from sklearn.preprocessing import StandardScaler\n",
    "from sklearn.compose import ColumnTransformer\n",
    "\n",
    "# ----------------------------\n",
    "# Step 1: Load Sample Dataset\n",
    "# ----------------------------\n",
    "data = {\n",
    "    \"Age\": [25, np.nan, 35, 40, np.nan],\n",
    "    \"Salary\": [50000, 60000, np.nan, 70000, 80000],\n",
    "    \"Gender\": [\"Male\", \"Female\", \"Female\", np.nan, \"Male\"]\n",
    "}\n",
    "\n",
    "df = pd.DataFrame(data)\n",
    "print(\"Original DataFrame:\")\n",
    "print(df)\n",
    "\n",
    "# ----------------------------\n",
    "# Step 2: Define Imputation and Scaling Pipelines\n",
    "# ----------------------------\n",
    "\n",
    "# Numerical columns\n",
    "num_cols = [\"Age\", \"Salary\"]\n",
    "\n",
    "# Categorical columns\n",
    "cat_cols = [\"Gender\"]\n",
    "\n",
    "# Task: Imputation Function (Numerical)\n",
    "num_pipeline = Pipeline([\n",
    "    (\"imputer\", SimpleImputer(strategy=\"mean\")),         # Impute with mean\n",
    "    (\"scaler\", StandardScaler())                         # Scale features\n",
    "])\n",
    "\n",
    "# Task: Imputation Function (Categorical)\n",
    "cat_pipeline = Pipeline([\n",
    "    (\"imputer\", SimpleImputer(strategy=\"most_frequent\")) # Fill with most frequent value\n",
    "])\n",
    "\n",
    "# ----------------------------\n",
    "# Step 3: Combined Transformation Function\n",
    "# ----------------------------\n",
    "preprocessor = ColumnTransformer([\n",
    "    (\"num\", num_pipeline, num_cols),\n",
    "    (\"cat\", cat_pipeline, cat_cols)\n",
    "])\n",
    "\n",
    "# Apply transformation\n",
    "df_transformed = preprocessor.fit_transform(df)\n",
    "\n",
    "# Convert transformed output back to DataFrame\n",
    "columns_transformed = num_cols + cat_cols\n",
    "df_final = pd.DataFrame(df_transformed, columns=columns_transformed)\n",
    "\n",
    "print(\"\\nTransformed DataFrame:\")\n",
    "print(df_final)\n",
    "\n",
    "\n",
    "\n",
    "\n",
    "\n",
    "# Scaling Function\n",
    "\n",
    "\n",
    "\n",
    "\n",
    "\n",
    "\n",
    "\n",
    "\n",
    "\n",
    "# Combined Transformation Function\n",
    "\n",
    "\n",
    "\n",
    "\n",
    "\n",
    "\n",
    "\n"
   ]
  }
 ],
 "metadata": {
  "kernelspec": {
   "display_name": "Python 3",
   "language": "python",
   "name": "python3"
  },
  "language_info": {
   "codemirror_mode": {
    "name": "ipython",
    "version": 3
   },
   "file_extension": ".py",
   "mimetype": "text/x-python",
   "name": "python",
   "nbconvert_exporter": "python",
   "pygments_lexer": "ipython3",
   "version": "3.10.12"
  }
 },
 "nbformat": 4,
 "nbformat_minor": 2
}
