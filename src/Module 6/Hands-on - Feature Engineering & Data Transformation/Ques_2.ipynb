{
 "cells": [
  {
   "cell_type": "code",
   "execution_count": 1,
   "metadata": {},
   "outputs": [
    {
     "name": "stdout",
     "output_type": "stream",
     "text": [
      "Original Data:\n",
      "   Age  Annual_Income Region\n",
      "0   25          50000  North\n",
      "1   35          60000  South\n",
      "2   45          80000   East\n",
      "3   32          62000   West\n",
      "4   23          45000   East\n",
      "5   52          90000  North\n",
      "\n",
      "Transformed Data (After Scaling and Encoding):\n",
      "        Age  Annual_Income  Region_East  Region_North  Region_South  \\\n",
      "0  0.068966       0.111111        False          True         False   \n",
      "1  0.413793       0.333333        False         False          True   \n",
      "2  0.758621       0.777778         True         False         False   \n",
      "3  0.310345       0.377778        False         False         False   \n",
      "4  0.000000       0.000000         True         False         False   \n",
      "5  1.000000       1.000000        False          True         False   \n",
      "\n",
      "   Region_West  \n",
      "0        False  \n",
      "1        False  \n",
      "2        False  \n",
      "3         True  \n",
      "4        False  \n",
      "5        False  \n"
     ]
    }
   ],
   "source": [
    "# Feature Scaling & Encoding\n",
    "\n",
    "# Objective: Learn to scale numerical features and encode categorical features for better model performance.\n",
    "# Instructions:\n",
    "# For each example, perform the following steps:\n",
    "#     1. Load the Dataset: Load the dataset into your environment.\n",
    "#     2. Feature Scaling: Apply scaling methods (StandardScaler or MinMaxScaler) to specified numerical columns.\n",
    "#     3. Feature Encoding: Apply encoding methods (One-Hot Encoding or Label Encoding) to specified categorical columns.\n",
    "#     4. Verify Changes: Check the data to ensure proper scaling and encoding. \n",
    "\n",
    "\n",
    "# Task:\n",
    "#     Dataset: customer_data.csv (get it by your own it includes the columns of Age , Annual_Income)\n",
    "#     Columns to scale: Age , Annual_Income\n",
    "#     Column to encode: Region\n",
    "#     Steps:\n",
    "#         1. Load customer_data.csv .\n",
    "#         2. Use MinMaxScaler on Age and Annual_Income .\n",
    "#         3. Perform One-Hot Encoding on Region .\n",
    "#         4. Verify by assessing the transformed dataset.\n",
    "\n",
    "\n",
    "import pandas as pd\n",
    "from sklearn.preprocessing import MinMaxScaler\n",
    "\n",
    "# Step 1: Create sample customer data (simulating customer_data.csv)\n",
    "data = {\n",
    "    \"Age\": [25, 35, 45, 32, 23, 52],\n",
    "    \"Annual_Income\": [50000, 60000, 80000, 62000, 45000, 90000],\n",
    "    \"Region\": [\"North\", \"South\", \"East\", \"West\", \"East\", \"North\"]\n",
    "}\n",
    "\n",
    "df = pd.DataFrame(data)\n",
    "\n",
    "# Save to CSV (simulate the customer_data.csv)\n",
    "df.to_csv(\"customer_data.csv\", index=False)\n",
    "\n",
    "# Step 2: Load the dataset\n",
    "df = pd.read_csv(\"customer_data.csv\")\n",
    "print(\"Original Data:\")\n",
    "print(df)\n",
    "\n",
    "# Step 3: Apply MinMaxScaler on Age and Annual_Income\n",
    "scaler = MinMaxScaler()\n",
    "df[[\"Age\", \"Annual_Income\"]] = scaler.fit_transform(df[[\"Age\", \"Annual_Income\"]])\n",
    "\n",
    "# Step 4: One-Hot Encoding on Region\n",
    "df_encoded = pd.get_dummies(df, columns=[\"Region\"])\n",
    "\n",
    "print(\"\\nTransformed Data (After Scaling and Encoding):\")\n",
    "print(df_encoded)\n",
    "    \n",
    "    \n",
    "    "
   ]
  }
 ],
 "metadata": {
  "kernelspec": {
   "display_name": "Python 3",
   "language": "python",
   "name": "python3"
  },
  "language_info": {
   "codemirror_mode": {
    "name": "ipython",
    "version": 3
   },
   "file_extension": ".py",
   "mimetype": "text/x-python",
   "name": "python",
   "nbconvert_exporter": "python",
   "pygments_lexer": "ipython3",
   "version": "3.10.12"
  }
 },
 "nbformat": 4,
 "nbformat_minor": 2
}
