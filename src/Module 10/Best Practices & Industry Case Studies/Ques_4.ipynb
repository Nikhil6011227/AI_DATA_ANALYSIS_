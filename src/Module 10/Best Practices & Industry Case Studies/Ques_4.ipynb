{
 "cells": [
  {
   "cell_type": "markdown",
   "metadata": {},
   "source": [
    "## Real-World Case Studies\n",
    "\n",
    "### Healthcare - Medical Prediction Errors:\n",
    "**Description**: Implement validation rules using a healthcare dataset to reduce errors in\n",
    "predictive models by automating data quality checks."
   ]
  },
  {
   "cell_type": "code",
   "execution_count": 3,
   "metadata": {},
   "outputs": [
    {
     "ename": "ModuleNotFoundError",
     "evalue": "No module named 'great_expectations.dataset'",
     "output_type": "error",
     "traceback": [
      "\u001b[0;31m---------------------------------------------------------------------------\u001b[0m",
      "\u001b[0;31mModuleNotFoundError\u001b[0m                       Traceback (most recent call last)",
      "Cell \u001b[0;32mIn[3], line 2\u001b[0m\n\u001b[1;32m      1\u001b[0m \u001b[38;5;28;01mimport\u001b[39;00m\u001b[38;5;250m \u001b[39m\u001b[38;5;21;01mpandas\u001b[39;00m\u001b[38;5;250m \u001b[39m\u001b[38;5;28;01mas\u001b[39;00m\u001b[38;5;250m \u001b[39m\u001b[38;5;21;01mpd\u001b[39;00m\n\u001b[0;32m----> 2\u001b[0m \u001b[38;5;28;01mfrom\u001b[39;00m\u001b[38;5;250m \u001b[39m\u001b[38;5;21;01mgreat_expectations\u001b[39;00m\u001b[38;5;21;01m.\u001b[39;00m\u001b[38;5;21;01mdataset\u001b[39;00m\u001b[38;5;250m \u001b[39m\u001b[38;5;28;01mimport\u001b[39;00m PandasDataset\n\u001b[1;32m      4\u001b[0m \u001b[38;5;66;03m# STEP 1: Create sample healthcare dataset\u001b[39;00m\n\u001b[1;32m      5\u001b[0m data \u001b[38;5;241m=\u001b[39m {\n\u001b[1;32m      6\u001b[0m     \u001b[38;5;124m\"\u001b[39m\u001b[38;5;124mpatient_id\u001b[39m\u001b[38;5;124m\"\u001b[39m: [\u001b[38;5;241m1\u001b[39m, \u001b[38;5;241m2\u001b[39m, \u001b[38;5;241m3\u001b[39m, \u001b[38;5;241m4\u001b[39m],\n\u001b[1;32m      7\u001b[0m     \u001b[38;5;124m\"\u001b[39m\u001b[38;5;124mage\u001b[39m\u001b[38;5;124m\"\u001b[39m: [\u001b[38;5;241m25\u001b[39m, \u001b[38;5;241m140\u001b[39m, \u001b[38;5;241m35\u001b[39m, \u001b[38;5;241m50\u001b[39m],\n\u001b[0;32m   (...)\u001b[0m\n\u001b[1;32m     12\u001b[0m     \u001b[38;5;124m\"\u001b[39m\u001b[38;5;124mdiagnosis_date\u001b[39m\u001b[38;5;124m\"\u001b[39m: [\u001b[38;5;124m\"\u001b[39m\u001b[38;5;124m2022-05-10\u001b[39m\u001b[38;5;124m\"\u001b[39m, \u001b[38;5;124m\"\u001b[39m\u001b[38;5;124m2021-11-03\u001b[39m\u001b[38;5;124m\"\u001b[39m, \u001b[38;5;124m\"\u001b[39m\u001b[38;5;124m2020-08-15\u001b[39m\u001b[38;5;124m\"\u001b[39m, \u001b[38;5;124m\"\u001b[39m\u001b[38;5;124m1970-01-01\u001b[39m\u001b[38;5;124m\"\u001b[39m],\n\u001b[1;32m     13\u001b[0m }\n",
      "\u001b[0;31mModuleNotFoundError\u001b[0m: No module named 'great_expectations.dataset'"
     ]
    }
   ],
   "source": [
    "import pandas as pd\n",
    "from great_expectations.dataset import PandasDataset\n",
    "\n",
    "# STEP 1: Create sample healthcare dataset\n",
    "data = {\n",
    "    \"patient_id\": [1, 2, 3, 4],\n",
    "    \"age\": [25, 140, 35, 50],\n",
    "    \"heart_rate\": [72, 80, None, 88],\n",
    "    \"blood_pressure\": [120, 130, 115, 140],\n",
    "    \"glucose_level\": [90, 110, 85, None],\n",
    "    \"birth_date\": [\"1998-03-12\", \"1880-01-01\", \"1989-07-22\", \"1975-10-02\"],\n",
    "    \"diagnosis_date\": [\"2022-05-10\", \"2021-11-03\", \"2020-08-15\", \"1970-01-01\"],\n",
    "}\n",
    "\n",
    "df = pd.DataFrame(data)\n",
    "\n",
    "# Convert date columns to datetime\n",
    "df[\"birth_date\"] = pd.to_datetime(df[\"birth_date\"])\n",
    "df[\"diagnosis_date\"] = pd.to_datetime(df[\"diagnosis_date\"])\n",
    "\n",
    "# STEP 2: Create a Great Expectations dataset\n",
    "class HealthcareDataset(PandasDataset):\n",
    "    pass\n",
    "\n",
    "ge_df = HealthcareDataset(df)\n",
    "\n",
    "# STEP 3: Define expectations\n",
    "ge_df.expect_column_values_to_be_between(\"age\", min_value=0, max_value=120)\n",
    "ge_df.expect_column_values_to_not_be_null(\"heart_rate\")\n",
    "ge_df.expect_column_values_to_not_be_null(\"blood_pressure\")\n",
    "ge_df.expect_column_values_to_not_be_null(\"glucose_level\")\n",
    "ge_df.expect_column_pair_values_A_to_be_less_than_B(\"birth_date\", \"diagnosis_date\")\n",
    "\n",
    "# STEP 4: Run validation\n",
    "results = ge_df.validate()\n",
    "\n",
    "# STEP 5: Output results\n",
    "print(\"\\n✅ Validation Summary\")\n",
    "print(\"---------------------\")\n",
    "print(f\"Overall Success: {results['success']}\")\n",
    "for r in results[\"results\"]:\n",
    "    print(f\"{r['expectation_config']['expectation_type']}: {r['success']}\")"
   ]
  }
 ],
 "metadata": {
  "kernelspec": {
   "display_name": "Python 3",
   "language": "python",
   "name": "python3"
  },
  "language_info": {
   "codemirror_mode": {
    "name": "ipython",
    "version": 3
   },
   "file_extension": ".py",
   "mimetype": "text/x-python",
   "name": "python",
   "nbconvert_exporter": "python",
   "pygments_lexer": "ipython3",
   "version": "3.10.12"
  }
 },
 "nbformat": 4,
 "nbformat_minor": 2
}
