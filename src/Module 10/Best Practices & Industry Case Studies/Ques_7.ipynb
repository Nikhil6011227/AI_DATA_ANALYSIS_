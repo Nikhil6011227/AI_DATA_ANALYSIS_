{
 "cells": [
  {
   "cell_type": "markdown",
   "metadata": {},
   "source": [
    "### Implementing and Logging an ML Experiment with MLFlow\n",
    "**Description**: Train an ML model for an e-commerce recommendation engine using MLFlow to track models and experiments.\n",
    "\n",
    "**Steps**:\n",
    "1. MLFlow Integration Setup\n",
    "2. Training the Model\n",
    "3. Logging the Experiment\n",
    "4. Accessing MLFlow UI"
   ]
  },
  {
   "cell_type": "code",
   "execution_count": 1,
   "metadata": {},
   "outputs": [
    {
     "name": "stderr",
     "output_type": "stream",
     "text": [
      "2025/05/22 16:50:09 INFO mlflow.tracking.fluent: Experiment with name 'Ecommerce_Recommendation_Engine' does not exist. Creating a new experiment.\n",
      "\u001b[31m2025/05/22 16:50:13 WARNING mlflow.models.model: Model logged without a signature and input example. Please set `input_example` parameter when logging the model to auto infer the model signature.\u001b[0m\n"
     ]
    },
    {
     "name": "stdout",
     "output_type": "stream",
     "text": [
      "✅ Model logged to MLFlow with accuracy: 0.48\n",
      "👉 View with: mlflow ui (http://localhost:5000)\n"
     ]
    }
   ],
   "source": [
    "# Step 1: Import libraries\n",
    "import pandas as pd\n",
    "import numpy as np\n",
    "from sklearn.model_selection import train_test_split\n",
    "from sklearn.ensemble import RandomForestClassifier\n",
    "from sklearn.metrics import accuracy_score, classification_report\n",
    "import mlflow\n",
    "import mlflow.sklearn\n",
    "\n",
    "# Step 2: Simulated E-Commerce Recommendation Data\n",
    "def generate_fake_data():\n",
    "    np.random.seed(42)\n",
    "    data = {\n",
    "        \"user_age\": np.random.randint(18, 70, size=1000),\n",
    "        \"user_location_score\": np.random.rand(1000),\n",
    "        \"product_category\": np.random.randint(1, 10, size=1000),\n",
    "        \"previous_purchases\": np.random.randint(0, 20, size=1000),\n",
    "        \"recommended\": np.random.randint(0, 2, size=1000)  # Target: 1 = bought, 0 = skipped\n",
    "    }\n",
    "    return pd.DataFrame(data)\n",
    "\n",
    "# Step 3: Train/Test Split\n",
    "def prepare_data(df):\n",
    "    X = df.drop(\"recommended\", axis=1)\n",
    "    y = df[\"recommended\"]\n",
    "    return train_test_split(X, y, test_size=0.2, random_state=42)\n",
    "\n",
    "# Step 4: Train & Log Model using MLFlow\n",
    "def train_and_log_model(X_train, X_test, y_train, y_test):\n",
    "    mlflow.set_experiment(\"Ecommerce_Recommendation_Engine\")\n",
    "    \n",
    "    with mlflow.start_run():\n",
    "        model = RandomForestClassifier(n_estimators=100, random_state=42)\n",
    "        model.fit(X_train, y_train)\n",
    "        y_pred = model.predict(X_test)\n",
    "\n",
    "        acc = accuracy_score(y_test, y_pred)\n",
    "\n",
    "        # Log parameters\n",
    "        mlflow.log_param(\"model_type\", \"RandomForestClassifier\")\n",
    "        mlflow.log_param(\"n_estimators\", 100)\n",
    "\n",
    "        # Log metrics\n",
    "        mlflow.log_metric(\"accuracy\", acc)\n",
    "\n",
    "        # Log model\n",
    "        mlflow.sklearn.log_model(model, \"ecommerce_model\")\n",
    "\n",
    "        print(f\"✅ Model logged to MLFlow with accuracy: {acc:.2f}\")\n",
    "        print(\"👉 View with: mlflow ui (http://localhost:5000)\")\n",
    "\n",
    "# Step 5: Run Entire Workflow\n",
    "if __name__ == \"__main__\":\n",
    "    try:\n",
    "        df = generate_fake_data()\n",
    "        X_train, X_test, y_train, y_test = prepare_data(df)\n",
    "        train_and_log_model(X_train, X_test, y_train, y_test)\n",
    "    except Exception as e:\n",
    "        print(f\"❌ Pipeline failed: {e}\")"
   ]
  }
 ],
 "metadata": {
  "kernelspec": {
   "display_name": "Python 3",
   "language": "python",
   "name": "python3"
  },
  "language_info": {
   "codemirror_mode": {
    "name": "ipython",
    "version": 3
   },
   "file_extension": ".py",
   "mimetype": "text/x-python",
   "name": "python",
   "nbconvert_exporter": "python",
   "pygments_lexer": "ipython3",
   "version": "3.10.12"
  }
 },
 "nbformat": 4,
 "nbformat_minor": 2
}
