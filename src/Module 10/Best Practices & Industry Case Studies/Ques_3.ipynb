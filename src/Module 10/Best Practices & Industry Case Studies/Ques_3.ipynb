{
 "cells": [
  {
   "cell_type": "markdown",
   "metadata": {},
   "source": [
    "## Real-World Case Studies\n",
    "\n",
    "### Finance - Fraud Detection Models:\n",
    "**Description**: Analyze a financial dataset, define SLAs for data accuracy and\n",
    "completeness, and ensure high data quality for fraud detection models."
   ]
  },
  {
   "cell_type": "code",
   "execution_count": 3,
   "metadata": {},
   "outputs": [
    {
     "name": "stdout",
     "output_type": "stream",
     "text": [
      "   transaction_amount           timestamp      ingestion_time customer_id  \\\n",
      "0               100.0 2025-05-20 12:00:00 2025-05-20 12:10:00          C1   \n",
      "1               250.0 2025-05-20 12:05:00 2025-05-20 12:10:00          C2   \n",
      "2                 NaN 2025-05-20 12:10:00 2025-05-20 12:15:00          C1   \n",
      "3                75.0 2025-05-20 12:15:00 2025-05-20 12:30:00          C3   \n",
      "4               300.0 2025-05-20 12:20:00 2025-05-20 12:40:00        None   \n",
      "\n",
      "  merchant_id  \n",
      "0          M1  \n",
      "1          M2  \n",
      "2          M1  \n",
      "3          M2  \n",
      "4          M3  \n"
     ]
    }
   ],
   "source": [
    "import pandas as pd\n",
    "import numpy as np\n",
    "\n",
    "# Create a sample DataFrame to simulate transaction data\n",
    "data = {\n",
    "    'transaction_amount': [100, 250, np.nan, 75, 300],\n",
    "    'timestamp': pd.to_datetime([\n",
    "        '2025-05-20 12:00:00',\n",
    "        '2025-05-20 12:05:00',\n",
    "        '2025-05-20 12:10:00',\n",
    "        '2025-05-20 12:15:00',\n",
    "        '2025-05-20 12:20:00'\n",
    "    ]),\n",
    "    'ingestion_time': pd.to_datetime([\n",
    "        '2025-05-20 12:10:00',\n",
    "        '2025-05-20 12:10:00',\n",
    "        '2025-05-20 12:15:00',\n",
    "        '2025-05-20 12:30:00',\n",
    "        '2025-05-20 12:40:00'\n",
    "    ]),\n",
    "    'customer_id': ['C1', 'C2', 'C1', 'C3', None],\n",
    "    'merchant_id': ['M1', 'M2', 'M1', 'M2', 'M3']\n",
    "}\n",
    "\n",
    "df = pd.DataFrame(data)\n",
    "print(df)"
   ]
  }
 ],
 "metadata": {
  "kernelspec": {
   "display_name": "Python 3",
   "language": "python",
   "name": "python3"
  },
  "language_info": {
   "codemirror_mode": {
    "name": "ipython",
    "version": 3
   },
   "file_extension": ".py",
   "mimetype": "text/x-python",
   "name": "python",
   "nbconvert_exporter": "python",
   "pygments_lexer": "ipython3",
   "version": "3.10.12"
  }
 },
 "nbformat": 4,
 "nbformat_minor": 2
}
