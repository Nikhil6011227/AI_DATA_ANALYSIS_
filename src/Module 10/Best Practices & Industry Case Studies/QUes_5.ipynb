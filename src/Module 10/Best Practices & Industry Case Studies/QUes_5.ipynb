{
 "cells": [
  {
   "cell_type": "markdown",
   "metadata": {},
   "source": [
    "### Implementing Basic Data Validation with Great Expectations\n",
    "**Description**: Set up a simple data validation using Great Expectations to check the completeness of a dataset.\n",
    "\n",
    "**Steps**:\n",
    "1. Installation\n",
    "2. Initialize Great Expectations\n",
    "3. Create a Data Context in Python\n",
    "4. Create an Expectation Suite\n",
    "5. Load Sample Data and Validate Completeness\n",
    "6. Run Validations"
   ]
  },
  {
   "cell_type": "code",
   "execution_count": 2,
   "metadata": {},
   "outputs": [
    {
     "ename": "AttributeError",
     "evalue": "module 'great_expectations' has no attribute 'from_pandas'",
     "output_type": "error",
     "traceback": [
      "\u001b[0;31m---------------------------------------------------------------------------\u001b[0m",
      "\u001b[0;31mAttributeError\u001b[0m                            Traceback (most recent call last)",
      "Cell \u001b[0;32mIn[2], line 17\u001b[0m\n\u001b[1;32m     14\u001b[0m df \u001b[38;5;241m=\u001b[39m pd\u001b[38;5;241m.\u001b[39mDataFrame(data)\n\u001b[1;32m     16\u001b[0m \u001b[38;5;66;03m# STEP 2: Convert to a Great Expectations DataFrame\u001b[39;00m\n\u001b[0;32m---> 17\u001b[0m ge_df \u001b[38;5;241m=\u001b[39m \u001b[43mge\u001b[49m\u001b[38;5;241;43m.\u001b[39;49m\u001b[43mfrom_pandas\u001b[49m(df)\n\u001b[1;32m     19\u001b[0m \u001b[38;5;66;03m# STEP 3: Define expectations for completeness and range\u001b[39;00m\n\u001b[1;32m     20\u001b[0m ge_df\u001b[38;5;241m.\u001b[39mexpect_column_values_to_not_be_null(\u001b[38;5;124m\"\u001b[39m\u001b[38;5;124mpatient_id\u001b[39m\u001b[38;5;124m\"\u001b[39m)\n",
      "\u001b[0;31mAttributeError\u001b[0m: module 'great_expectations' has no attribute 'from_pandas'"
     ]
    }
   ],
   "source": [
    "# Make sure you install Great Expectations first:\n",
    "# pip install great_expectations pandas\n",
    "\n",
    "import pandas as pd\n",
    "import great_expectations as ge\n",
    "\n",
    "# STEP 1: Create sample healthcare data\n",
    "data = {\n",
    "    \"patient_id\": [1, 2, 3, 4],\n",
    "    \"age\": [25, None, 35, 50],\n",
    "    \"heart_rate\": [72, 80, 76, None],\n",
    "    \"blood_pressure\": [120, 130, 115, 140]\n",
    "}\n",
    "df = pd.DataFrame(data)\n",
    "\n",
    "# STEP 2: Convert to a Great Expectations DataFrame\n",
    "ge_df = ge.from_pandas(df)\n",
    "\n",
    "# STEP 3: Define expectations for completeness and range\n",
    "ge_df.expect_column_values_to_not_be_null(\"patient_id\")\n",
    "ge_df.expect_column_values_to_not_be_null(\"age\")\n",
    "ge_df.expect_column_values_to_not_be_null(\"heart_rate\")\n",
    "ge_df.expect_column_values_to_not_be_null(\"blood_pressure\")\n",
    "ge_df.expect_column_values_to_be_between(\"age\", min_value=0, max_value=120)\n",
    "ge_df.expect_column_values_to_be_between(\"heart_rate\", min_value=40, max_value=180)\n",
    "\n",
    "# STEP 4: Run validation\n",
    "results = ge_df.validate()\n",
    "\n",
    "# STEP 5: Print validation summary\n",
    "print(\"\\n✅ Validation Completed\")\n",
    "print(\"----------------------------\")\n",
    "print(f\"Overall Success: {results['success']}\")\n",
    "for r in results[\"results\"]:\n",
    "    exp = r[\"expectation_config\"][\"expectation_type\"]\n",
    "    col = r[\"expectation_config\"][\"kwargs\"].get(\"column\", \"\")\n",
    "    print(f\"{exp} on {col}: {r['success']}\")"
   ]
  }
 ],
 "metadata": {
  "kernelspec": {
   "display_name": "Python 3",
   "language": "python",
   "name": "python3"
  },
  "language_info": {
   "codemirror_mode": {
    "name": "ipython",
    "version": 3
   },
   "file_extension": ".py",
   "mimetype": "text/x-python",
   "name": "python",
   "nbconvert_exporter": "python",
   "pygments_lexer": "ipython3",
   "version": "3.10.12"
  }
 },
 "nbformat": 4,
 "nbformat_minor": 2
}
