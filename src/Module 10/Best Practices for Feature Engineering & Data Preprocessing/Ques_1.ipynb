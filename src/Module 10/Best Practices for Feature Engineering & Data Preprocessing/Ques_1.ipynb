{
 "cells": [
  {
   "cell_type": "markdown",
   "metadata": {},
   "source": [
    "### Task 1: Handling Missing Values - Simple Imputation\n",
    "**Description**: Given a dataset with missing values, impute the missing values using the mean for numerical features and the mode for categorical features."
   ]
  },
  {
   "cell_type": "code",
   "execution_count": 1,
   "metadata": {},
   "outputs": [
    {
     "name": "stdout",
     "output_type": "stream",
     "text": [
      "Original Data:\n",
      "    Age   Income  Gender  City\n",
      "0  25.0  50000.0    Male    NY\n",
      "1  30.0      NaN  Female  None\n",
      "2   NaN  62000.0    None    LA\n",
      "3  22.0  58000.0  Female    LA\n",
      "4  28.0      NaN    Male    NY\n",
      "5   NaN  54000.0    None    NY\n",
      "\n",
      "Data after Imputation:\n",
      "     Age   Income  Gender City\n",
      "0  25.00  50000.0    Male   NY\n",
      "1  30.00  56000.0  Female   NY\n",
      "2  26.25  62000.0  Female   LA\n",
      "3  22.00  58000.0  Female   LA\n",
      "4  28.00  56000.0    Male   NY\n",
      "5  26.25  54000.0  Female   NY\n"
     ]
    }
   ],
   "source": [
    "import pandas as pd\n",
    "\n",
    "# Sample dataset with missing values\n",
    "data = {\n",
    "    \"Age\": [25, 30, None, 22, 28, None],\n",
    "    \"Income\": [50000, None, 62000, 58000, None, 54000],\n",
    "    \"Gender\": [\"Male\", \"Female\", None, \"Female\", \"Male\", None],\n",
    "    \"City\": [\"NY\", None, \"LA\", \"LA\", \"NY\", \"NY\"]\n",
    "}\n",
    "\n",
    "df = pd.DataFrame(data)\n",
    "\n",
    "print(\"Original Data:\")\n",
    "print(df)\n",
    "\n",
    "# Separate numerical and categorical columns\n",
    "numerical_cols = df.select_dtypes(include=[\"number\"]).columns\n",
    "categorical_cols = df.select_dtypes(include=[\"object\"]).columns\n",
    "\n",
    "# Impute numerical columns with mean\n",
    "for col in numerical_cols:\n",
    "    mean_value = df[col].mean()\n",
    "    df[col].fillna(mean_value, inplace=True)\n",
    "\n",
    "# Impute categorical columns with mode\n",
    "for col in categorical_cols:\n",
    "    mode_value = df[col].mode()[0]  # mode() returns a Series\n",
    "    df[col].fillna(mode_value, inplace=True)\n",
    "\n",
    "print(\"\\nData after Imputation:\")\n",
    "print(df)"
   ]
  },
  {
   "cell_type": "markdown",
   "metadata": {},
   "source": [
    "### Task 2: Feature Scaling - Min-Max Normalization\n",
    "**Description**: Normalize a numerical feature using Min-Max scaling to a range [0, 1]."
   ]
  },
  {
   "cell_type": "code",
   "execution_count": 2,
   "metadata": {},
   "outputs": [
    {
     "name": "stdout",
     "output_type": "stream",
     "text": [
      "Original Data:\n",
      "   Age\n",
      "0   25\n",
      "1   30\n",
      "2   22\n",
      "3   28\n",
      "4   35\n",
      "5   40\n",
      "\n",
      "Data after Min-Max Normalization:\n",
      "   Age  Age_normalized\n",
      "0   25        0.166667\n",
      "1   30        0.444444\n",
      "2   22        0.000000\n",
      "3   28        0.333333\n",
      "4   35        0.722222\n",
      "5   40        1.000000\n"
     ]
    }
   ],
   "source": [
    "import pandas as pd\n",
    "\n",
    "# Sample data\n",
    "data = {\n",
    "    \"Age\": [25, 30, 22, 28, 35, 40]\n",
    "}\n",
    "\n",
    "df = pd.DataFrame(data)\n",
    "\n",
    "print(\"Original Data:\")\n",
    "print(df)\n",
    "\n",
    "# Min-Max Normalization formula: (x - min) / (max - min)\n",
    "df['Age_normalized'] = (df['Age'] - df['Age'].min()) / (df['Age'].max() - df['Age'].min())\n",
    "\n",
    "print(\"\\nData after Min-Max Normalization:\")\n",
    "print(df)"
   ]
  },
  {
   "cell_type": "markdown",
   "metadata": {},
   "source": [
    "### Task 3: Handling Missing Values - Drop Missing Values\n",
    "**Description**: Remove rows with missing values from a dataset."
   ]
  },
  {
   "cell_type": "code",
   "execution_count": 3,
   "metadata": {},
   "outputs": [
    {
     "name": "stdout",
     "output_type": "stream",
     "text": [
      "Original Data:\n",
      "    Age   Income  Gender  City\n",
      "0  25.0  50000.0    Male    NY\n",
      "1  30.0      NaN  Female  None\n",
      "2   NaN  62000.0    None    LA\n",
      "3  22.0  58000.0  Female    LA\n",
      "4  28.0      NaN    Male    NY\n",
      "5   NaN  54000.0    None    NY\n",
      "\n",
      "Data after dropping rows with missing values:\n",
      "    Age   Income  Gender City\n",
      "0  25.0  50000.0    Male   NY\n",
      "3  22.0  58000.0  Female   LA\n"
     ]
    }
   ],
   "source": [
    "import pandas as pd\n",
    "\n",
    "# Sample data with missing values\n",
    "data = {\n",
    "    \"Age\": [25, 30, None, 22, 28, None],\n",
    "    \"Income\": [50000, None, 62000, 58000, None, 54000],\n",
    "    \"Gender\": [\"Male\", \"Female\", None, \"Female\", \"Male\", None],\n",
    "    \"City\": [\"NY\", None, \"LA\", \"LA\", \"NY\", \"NY\"]\n",
    "}\n",
    "\n",
    "df = pd.DataFrame(data)\n",
    "\n",
    "print(\"Original Data:\")\n",
    "print(df)\n",
    "\n",
    "# Drop rows with any missing values\n",
    "df_cleaned = df.dropna()\n",
    "\n",
    "print(\"\\nData after dropping rows with missing values:\")\n",
    "print(df_cleaned)"
   ]
  },
  {
   "cell_type": "markdown",
   "metadata": {},
   "source": [
    "### Task 4: Feature Scaling - Standardization\n",
    "**Description**: Standardize a numerical feature to have zero mean and unit variance."
   ]
  },
  {
   "cell_type": "code",
   "execution_count": 4,
   "metadata": {},
   "outputs": [
    {
     "name": "stdout",
     "output_type": "stream",
     "text": [
      "Original Data:\n",
      "   Age\n",
      "0   25\n",
      "1   30\n",
      "2   22\n",
      "3   28\n",
      "4   35\n",
      "5   40\n",
      "\n",
      "Data after Standardization:\n",
      "   Age  Age_standardized\n",
      "0   25         -0.757228\n",
      "1   30          0.000000\n",
      "2   22         -1.211565\n",
      "3   28         -0.302891\n",
      "4   35          0.757228\n",
      "5   40          1.514456\n"
     ]
    }
   ],
   "source": [
    "import pandas as pd\n",
    "\n",
    "# Sample data\n",
    "data = {\n",
    "    \"Age\": [25, 30, 22, 28, 35, 40]\n",
    "}\n",
    "\n",
    "df = pd.DataFrame(data)\n",
    "\n",
    "print(\"Original Data:\")\n",
    "print(df)\n",
    "\n",
    "# Standardization formula: (x - mean) / std deviation\n",
    "df['Age_standardized'] = (df['Age'] - df['Age'].mean()) / df['Age'].std()\n",
    "\n",
    "print(\"\\nData after Standardization:\")\n",
    "print(df)"
   ]
  }
 ],
 "metadata": {
  "kernelspec": {
   "display_name": "Python 3",
   "language": "python",
   "name": "python3"
  },
  "language_info": {
   "codemirror_mode": {
    "name": "ipython",
    "version": 3
   },
   "file_extension": ".py",
   "mimetype": "text/x-python",
   "name": "python",
   "nbconvert_exporter": "python",
   "pygments_lexer": "ipython3",
   "version": "3.10.12"
  }
 },
 "nbformat": 4,
 "nbformat_minor": 2
}
