{
 "cells": [
  {
   "cell_type": "code",
   "execution_count": 3,
   "metadata": {},
   "outputs": [
    {
     "name": "stdout",
     "output_type": "stream",
     "text": [
      "Sample data saved to /workspaces/AI_DATA_ANALYSIS_/src/Module 3/Hands-on - Data Quality Assessment & Profiling/customer_data.csv\n",
      "\n",
      "Missing values:\n",
      "Email: 2\n",
      "Phone: 2\n",
      "\n",
      "Duplicate Emails (possible duplicate records):\n",
      "   CustomerID   Name            Email\n",
      "1           2    Bob  bob@example.com\n",
      "5           6  Frank  bob@example.com\n",
      "\n",
      "Data Quality Summary Report:\n",
      "Total records: 8\n",
      "Total duplicate rows: 0\n",
      "Columns with missing values: ['Email', 'Phone', 'Country']\n"
     ]
    }
   ],
   "source": [
    "import pandas as pd\n",
    "import os\n",
    "\n",
    "# Step 1: Create a sample customer_data.csv file for testing\n",
    "sample_data = \"\"\"CustomerID,Name,Email,Phone,Country\n",
    "1,Alice,alice@example.com,123-456-7890,USA\n",
    "2,Bob,bob@example.com,234-567-8901,Canada\n",
    "3,Charlie,charlie@example.com,,USA\n",
    "4,Daisy,,345-678-9012,UK\n",
    "5,Eve,eve@example.com,456-789-0123,Canada\n",
    "6,Frank,bob@example.com,234-567-8901,Canada\n",
    "7,Grace,grace@example.com,567-890-1234,USA\n",
    "8,Hank,,,\n",
    "\"\"\"\n",
    "\n",
    "# Save sample CSV to current directory\n",
    "csv_filename = \"customer_data.csv\"\n",
    "with open(csv_filename, \"w\") as f:\n",
    "    f.write(sample_data)\n",
    "\n",
    "print(f\"Sample data saved to {os.path.abspath(csv_filename)}\")\n",
    "\n",
    "# Step 2: Load the CSV file\n",
    "df = pd.read_csv(csv_filename)\n",
    "\n",
    "# Step 3: Check missing values in 'Email' and 'Phone' columns\n",
    "missing_email = df['Email'].isnull().sum() if 'Email' in df.columns else None\n",
    "missing_phone = df['Phone'].isnull().sum() if 'Phone' in df.columns else None\n",
    "\n",
    "print(\"\\nMissing values:\")\n",
    "print(f\"Email: {missing_email}\")\n",
    "print(f\"Phone: {missing_phone}\")\n",
    "\n",
    "# Step 4: Identify duplicate emails (potential duplicate customers)\n",
    "if 'Email' in df.columns:\n",
    "    duplicate_emails = df[df.duplicated(subset=['Email'], keep=False) & df['Email'].notnull()]\n",
    "    print(\"\\nDuplicate Emails (possible duplicate records):\")\n",
    "    if duplicate_emails.empty:\n",
    "        print(\"No duplicate emails found.\")\n",
    "    else:\n",
    "        print(duplicate_emails[['CustomerID', 'Name', 'Email']])\n",
    "else:\n",
    "    print(\"\\nNo 'Email' column found in the dataset.\")\n",
    "\n",
    "# Step 5: Generate data quality summary report\n",
    "total_records = len(df)\n",
    "total_duplicates = df.duplicated().sum()\n",
    "columns_with_missing = df.columns[df.isnull().any()].tolist()\n",
    "\n",
    "print(\"\\nData Quality Summary Report:\")\n",
    "print(f\"Total records: {total_records}\")\n",
    "print(f\"Total duplicate rows: {total_duplicates}\")\n",
    "print(f\"Columns with missing values: {columns_with_missing}\")"
   ]
  }
 ],
 "metadata": {
  "kernelspec": {
   "display_name": "Python 3",
   "language": "python",
   "name": "python3"
  },
  "language_info": {
   "codemirror_mode": {
    "name": "ipython",
    "version": 3
   },
   "file_extension": ".py",
   "mimetype": "text/x-python",
   "name": "python",
   "nbconvert_exporter": "python",
   "pygments_lexer": "ipython3",
   "version": "3.10.12"
  }
 },
 "nbformat": 4,
 "nbformat_minor": 2
}
