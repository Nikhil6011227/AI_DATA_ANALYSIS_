{
 "cells": [
  {
   "cell_type": "code",
   "execution_count": 2,
   "metadata": {},
   "outputs": [
    {
     "name": "stdout",
     "output_type": "stream",
     "text": [
      "Features of test pairs:\n",
      "[[ 0.36363636  0.7        15.        ]\n",
      " [ 0.36363636  0.65        5.        ]\n",
      " [ 0.28571429  0.71111111  5.        ]]\n",
      "True labels: [0 0 0]\n",
      "Predicted labels: [0 0 0]\n"
     ]
    }
   ],
   "source": [
    "import pandas as pd\n",
    "from sklearn.ensemble import RandomForestClassifier\n",
    "from sklearn.model_selection import train_test_split\n",
    "import numpy as np\n",
    "import difflib\n",
    "from itertools import combinations\n",
    "\n",
    "# Sample data with possible duplicates\n",
    "data = [\n",
    "    {'id': 1, 'name': 'John Smith', 'email': 'john.smith@example.com', 'age': 30},\n",
    "    {'id': 2, 'name': 'Jon Smith', 'email': 'jon.smith@example.com', 'age': 31},\n",
    "    {'id': 3, 'name': 'Mary Johnson', 'email': 'mary.j@example.com', 'age': 25},\n",
    "    {'id': 4, 'name': 'Mary Jhonson', 'email': 'mary.johnson@example.com', 'age': 26},\n",
    "    {'id': 5, 'name': 'Jake Brown', 'email': 'jake.brown@example.com', 'age': 40}\n",
    "]\n",
    "\n",
    "df = pd.DataFrame(data)\n",
    "\n",
    "# Function to compute string similarity using difflib (ratio between 0 and 1)\n",
    "def string_sim(str1, str2):\n",
    "    return difflib.SequenceMatcher(None, str1, str2).ratio()\n",
    "\n",
    "# Generate all pairs of records (by index)\n",
    "pairs = list(combinations(df.index, 2))\n",
    "\n",
    "features = []\n",
    "labels = []\n",
    "\n",
    "# Manually labeled duplicate pairs based on index\n",
    "# (0,1) means df rows with index 0 and 1 are duplicates, similarly (2,3)\n",
    "duplicate_pairs = {(0, 1), (2, 3)}\n",
    "\n",
    "for i, j in pairs:\n",
    "    rec1 = df.loc[i]\n",
    "    rec2 = df.loc[j]\n",
    "    \n",
    "    name_similarity = string_sim(rec1['name'], rec2['name'])\n",
    "    email_similarity = string_sim(rec1['email'], rec2['email'])\n",
    "    age_difference = abs(rec1['age'] - rec2['age'])\n",
    "    \n",
    "    # Feature vector for the pair\n",
    "    features.append([name_similarity, email_similarity, age_difference])\n",
    "    \n",
    "    # Label: 1 if duplicates, else 0\n",
    "    labels.append(1 if (i, j) in duplicate_pairs or (j, i) in duplicate_pairs else 0)\n",
    "\n",
    "X = np.array(features)\n",
    "y = np.array(labels)\n",
    "\n",
    "# Split into train and test sets\n",
    "X_train, X_test, y_train, y_test = train_test_split(X, y, random_state=42)\n",
    "\n",
    "# Train Random Forest classifier\n",
    "clf = RandomForestClassifier(n_estimators=100, random_state=42)\n",
    "clf.fit(X_train, y_train)\n",
    "\n",
    "# Predict on test set\n",
    "y_pred = clf.predict(X_test)\n",
    "\n",
    "# Show results\n",
    "print(\"Features of test pairs:\")\n",
    "print(X_test)\n",
    "print(\"True labels:\", y_test)\n",
    "print(\"Predicted labels:\", y_pred)"
   ]
  }
 ],
 "metadata": {
  "kernelspec": {
   "display_name": "Python 3",
   "language": "python",
   "name": "python3"
  },
  "language_info": {
   "codemirror_mode": {
    "name": "ipython",
    "version": 3
   },
   "file_extension": ".py",
   "mimetype": "text/x-python",
   "name": "python",
   "nbconvert_exporter": "python",
   "pygments_lexer": "ipython3",
   "version": "3.10.12"
  }
 },
 "nbformat": 4,
 "nbformat_minor": 2
}
