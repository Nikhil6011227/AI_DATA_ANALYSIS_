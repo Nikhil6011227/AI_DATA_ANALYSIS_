{
 "cells": [
  {
   "cell_type": "code",
   "execution_count": 3,
   "metadata": {},
   "outputs": [
    {
     "ename": "AttributeError",
     "evalue": "'EphemeralDataContext' object has no attribute 'add_or_update_expectation_suite'",
     "output_type": "error",
     "traceback": [
      "\u001b[0;31m---------------------------------------------------------------------------\u001b[0m",
      "\u001b[0;31mAttributeError\u001b[0m                            Traceback (most recent call last)",
      "Cell \u001b[0;32mIn[3], line 17\u001b[0m\n\u001b[1;32m     16\u001b[0m \u001b[38;5;28;01mtry\u001b[39;00m:\n\u001b[0;32m---> 17\u001b[0m     suite \u001b[38;5;241m=\u001b[39m \u001b[43mcontext\u001b[49m\u001b[38;5;241;43m.\u001b[39;49m\u001b[43mget_expectation_suite\u001b[49m(suite_name)\n\u001b[1;32m     18\u001b[0m \u001b[38;5;28;01mexcept\u001b[39;00m \u001b[38;5;167;01mException\u001b[39;00m:\n",
      "\u001b[0;31mAttributeError\u001b[0m: 'EphemeralDataContext' object has no attribute 'get_expectation_suite'",
      "\nDuring handling of the above exception, another exception occurred:\n",
      "\u001b[0;31mAttributeError\u001b[0m                            Traceback (most recent call last)",
      "Cell \u001b[0;32mIn[3], line 19\u001b[0m\n\u001b[1;32m     17\u001b[0m     suite \u001b[38;5;241m=\u001b[39m context\u001b[38;5;241m.\u001b[39mget_expectation_suite(suite_name)\n\u001b[1;32m     18\u001b[0m \u001b[38;5;28;01mexcept\u001b[39;00m \u001b[38;5;167;01mException\u001b[39;00m:\n\u001b[0;32m---> 19\u001b[0m     suite \u001b[38;5;241m=\u001b[39m \u001b[43mcontext\u001b[49m\u001b[38;5;241;43m.\u001b[39;49m\u001b[43madd_or_update_expectation_suite\u001b[49m(suite_name)\n\u001b[1;32m     21\u001b[0m \u001b[38;5;66;03m# Create a Validator using the Fluent interface\u001b[39;00m\n\u001b[1;32m     22\u001b[0m validator \u001b[38;5;241m=\u001b[39m context\u001b[38;5;241m.\u001b[39msources\u001b[38;5;241m.\u001b[39mpandas_default\u001b[38;5;241m.\u001b[39mread_dataframe(df)\n",
      "\u001b[0;31mAttributeError\u001b[0m: 'EphemeralDataContext' object has no attribute 'add_or_update_expectation_suite'"
     ]
    }
   ],
   "source": [
    "import pandas as pd\n",
    "import great_expectations as gx\n",
    "\n",
    "# Sample DataFrame\n",
    "data = {\n",
    "    \"Product\": [\"A\", \"B\", \"C\", \"D\"],\n",
    "    \"Sales\": [100, 200, None, 400]\n",
    "}\n",
    "df = pd.DataFrame(data)\n",
    "\n",
    "# Get or create the Data Context\n",
    "context = gx.get_context()\n",
    "\n",
    "# Create an Expectation Suite\n",
    "suite_name = \"sales_suite\"\n",
    "try:\n",
    "    suite = context.get_expectation_suite(suite_name)\n",
    "except Exception:\n",
    "    suite = context.add_or_update_expectation_suite(suite_name)\n",
    "\n",
    "# Create a Validator using the Fluent interface\n",
    "validator = context.sources.pandas_default.read_dataframe(df)\n",
    "validator.expect_column_values_to_not_be_null(\"Sales\")\n",
    "\n",
    "# Save the expectation suite\n",
    "validator.save_expectation_suite(discard_failed_expectations=False)\n",
    "\n",
    "# Run validation\n",
    "checkpoint = context.add_or_update_checkpoint(\n",
    "    name=\"sales_checkpoint\",\n",
    "    validator=validator,\n",
    ")\n",
    "results = checkpoint.run()\n",
    "\n",
    "# Show results\n",
    "print(\"Validation Result Summary:\")\n",
    "print(results[\"run_results\"])\n",
    "\n",
    "print(\"\\nRows with missing Sales:\")\n",
    "print(df[df[\"Sales\"].isnull()])"
   ]
  }
 ],
 "metadata": {
  "kernelspec": {
   "display_name": "Python 3",
   "language": "python",
   "name": "python3"
  },
  "language_info": {
   "codemirror_mode": {
    "name": "ipython",
    "version": 3
   },
   "file_extension": ".py",
   "mimetype": "text/x-python",
   "name": "python",
   "nbconvert_exporter": "python",
   "pygments_lexer": "ipython3",
   "version": "3.10.12"
  }
 },
 "nbformat": 4,
 "nbformat_minor": 2
}
