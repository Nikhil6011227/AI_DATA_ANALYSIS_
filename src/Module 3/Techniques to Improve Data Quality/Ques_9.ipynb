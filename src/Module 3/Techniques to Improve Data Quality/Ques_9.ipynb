{
 "cells": [
  {
   "cell_type": "code",
   "execution_count": 3,
   "metadata": {},
   "outputs": [
    {
     "name": "stdout",
     "output_type": "stream",
     "text": [
      "Original DataFrame with missing Age values:\n",
      "    Age  Height  Weight  Salary\n",
      "0  25.0     170      70   50000\n",
      "1   NaN     165      60   48000\n",
      "2  30.0     180      80   52000\n",
      "3  22.0     175      75   51000\n",
      "4   NaN     160      55   47000\n",
      "5  35.0     185      85   53000\n",
      "6  40.0     178      77   54000\n",
      "7   NaN     168      65   49000\n",
      "\n",
      "DataFrame after Predictive Imputation of 'Age':\n",
      "     Age  Height  Weight  Salary\n",
      "0  25.00     170      70   50000\n",
      "1  25.09     165      60   48000\n",
      "2  30.00     180      80   52000\n",
      "3  22.00     175      75   51000\n",
      "4  25.09     160      55   47000\n",
      "5  35.00     185      85   53000\n",
      "6  40.00     178      77   54000\n",
      "7  25.09     168      65   49000\n"
     ]
    }
   ],
   "source": [
    "import pandas as pd\n",
    "import numpy as np\n",
    "from sklearn.ensemble import RandomForestRegressor\n",
    "\n",
    "# Step 1: Create sample data with missing values in 'Age'\n",
    "data = {\n",
    "    'Age': [25, np.nan, 30, 22, np.nan, 35, 40, np.nan],\n",
    "    'Height': [170, 165, 180, 175, 160, 185, 178, 168],\n",
    "    'Weight': [70, 60, 80, 75, 55, 85, 77, 65],\n",
    "    'Salary': [50000, 48000, 52000, 51000, 47000, 53000, 54000, 49000]\n",
    "}\n",
    "df = pd.DataFrame(data)\n",
    "\n",
    "print(\"Original DataFrame with missing Age values:\")\n",
    "print(df)\n",
    "\n",
    "# Step 2: Define feature columns (no missing values here)\n",
    "feature_cols = ['Height', 'Weight', 'Salary']\n",
    "\n",
    "# Step 3: Split dataset into rows with known 'Age' and missing 'Age'\n",
    "train_df = df[df['Age'].notnull()]\n",
    "predict_df = df[df['Age'].isnull()]\n",
    "\n",
    "# Step 4: Prepare features and target for training\n",
    "X_train = train_df[feature_cols]\n",
    "y_train = train_df['Age']\n",
    "\n",
    "# Features for prediction (missing Age rows)\n",
    "X_predict = predict_df[feature_cols]\n",
    "\n",
    "# Step 5: Train the Random Forest model\n",
    "model = RandomForestRegressor(n_estimators=100, random_state=42)\n",
    "model.fit(X_train, y_train)\n",
    "\n",
    "# Step 6: Predict missing 'Age' values\n",
    "predicted_ages = model.predict(X_predict)\n",
    "\n",
    "# Step 7: Fill predicted values back into the original DataFrame\n",
    "df.loc[df['Age'].isnull(), 'Age'] = predicted_ages\n",
    "\n",
    "print(\"\\nDataFrame after Predictive Imputation of 'Age':\")\n",
    "print(df)"
   ]
  }
 ],
 "metadata": {
  "kernelspec": {
   "display_name": "Python 3",
   "language": "python",
   "name": "python3"
  },
  "language_info": {
   "codemirror_mode": {
    "name": "ipython",
    "version": 3
   },
   "file_extension": ".py",
   "mimetype": "text/x-python",
   "name": "python",
   "nbconvert_exporter": "python",
   "pygments_lexer": "ipython3",
   "version": "3.10.12"
  }
 },
 "nbformat": 4,
 "nbformat_minor": 2
}
